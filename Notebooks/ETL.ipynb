{
 "cells": [
  {
   "cell_type": "markdown",
   "metadata": {},
   "source": [
    "# ETL"
   ]
  },
  {
   "cell_type": "code",
   "execution_count": 1,
   "metadata": {},
   "outputs": [],
   "source": [
    "import pandas as pd\n",
    "# Se configura para que se muestre la totalidad de las columnas del dataframe.\n",
    "pd.options.display.max_columns = None"
   ]
  },
  {
   "cell_type": "markdown",
   "metadata": {},
   "source": [
    "## Hechos  \n",
    "Se extraen los datos de la hoja \"HECHOS\" del archivo \"homicidios.xlxs\"."
   ]
  },
  {
   "cell_type": "code",
   "execution_count": 2,
   "metadata": {},
   "outputs": [],
   "source": [
    "hechos = 'C:\\\\Users\\\\fedez\\\\OneDrive\\\\Escritorio\\\\PI_02.zip\\\\PI-Data Analytics\\\\Data\\\\homicidios.xlsx'\n",
    "df_hechos = pd.read_excel(hechos, engine='openpyxl', sheet_name='HECHOS')"
   ]
  },
  {
   "cell_type": "code",
   "execution_count": 3,
   "metadata": {},
   "outputs": [
    {
     "name": "stdout",
     "output_type": "stream",
     "text": [
      "<class 'pandas.core.frame.DataFrame'>\n",
      "RangeIndex: 696 entries, 0 to 695\n",
      "Data columns (total 21 columns):\n",
      " #   Column                 Non-Null Count  Dtype         \n",
      "---  ------                 --------------  -----         \n",
      " 0   ID                     696 non-null    object        \n",
      " 1   N_VICTIMAS             696 non-null    int64         \n",
      " 2   FECHA                  696 non-null    datetime64[ns]\n",
      " 3   AAAA                   696 non-null    int64         \n",
      " 4   MM                     696 non-null    int64         \n",
      " 5   DD                     696 non-null    int64         \n",
      " 6   HORA                   696 non-null    object        \n",
      " 7   HH                     696 non-null    object        \n",
      " 8   LUGAR_DEL_HECHO        696 non-null    object        \n",
      " 9   TIPO_DE_CALLE          696 non-null    object        \n",
      " 10  Calle                  695 non-null    object        \n",
      " 11  Altura                 129 non-null    float64       \n",
      " 12  Cruce                  525 non-null    object        \n",
      " 13  Dirección Normalizada  688 non-null    object        \n",
      " 14  COMUNA                 696 non-null    int64         \n",
      " 15  XY (CABA)              696 non-null    object        \n",
      " 16  pos x                  696 non-null    object        \n",
      " 17  pos y                  696 non-null    object        \n",
      " 18  PARTICIPANTES          696 non-null    object        \n",
      " 19  VICTIMA                696 non-null    object        \n",
      " 20  ACUSADO                696 non-null    object        \n",
      "dtypes: datetime64[ns](1), float64(1), int64(5), object(14)\n",
      "memory usage: 114.3+ KB\n"
     ]
    }
   ],
   "source": [
    "df_hechos.info()"
   ]
  },
  {
   "cell_type": "code",
   "execution_count": 4,
   "metadata": {},
   "outputs": [
    {
     "data": {
      "text/html": [
       "<div>\n",
       "<style scoped>\n",
       "    .dataframe tbody tr th:only-of-type {\n",
       "        vertical-align: middle;\n",
       "    }\n",
       "\n",
       "    .dataframe tbody tr th {\n",
       "        vertical-align: top;\n",
       "    }\n",
       "\n",
       "    .dataframe thead th {\n",
       "        text-align: right;\n",
       "    }\n",
       "</style>\n",
       "<table border=\"1\" class=\"dataframe\">\n",
       "  <thead>\n",
       "    <tr style=\"text-align: right;\">\n",
       "      <th></th>\n",
       "      <th>ID</th>\n",
       "      <th>N_VICTIMAS</th>\n",
       "      <th>FECHA</th>\n",
       "      <th>AAAA</th>\n",
       "      <th>MM</th>\n",
       "      <th>DD</th>\n",
       "      <th>HORA</th>\n",
       "      <th>HH</th>\n",
       "      <th>LUGAR_DEL_HECHO</th>\n",
       "      <th>TIPO_DE_CALLE</th>\n",
       "      <th>Calle</th>\n",
       "      <th>Altura</th>\n",
       "      <th>Cruce</th>\n",
       "      <th>Dirección Normalizada</th>\n",
       "      <th>COMUNA</th>\n",
       "      <th>XY (CABA)</th>\n",
       "      <th>pos x</th>\n",
       "      <th>pos y</th>\n",
       "      <th>PARTICIPANTES</th>\n",
       "      <th>VICTIMA</th>\n",
       "      <th>ACUSADO</th>\n",
       "    </tr>\n",
       "  </thead>\n",
       "  <tbody>\n",
       "    <tr>\n",
       "      <th>611</th>\n",
       "      <td>2021-0013</td>\n",
       "      <td>1</td>\n",
       "      <td>2021-01-31</td>\n",
       "      <td>2021</td>\n",
       "      <td>1</td>\n",
       "      <td>31</td>\n",
       "      <td>06:10:00</td>\n",
       "      <td>6</td>\n",
       "      <td>FALCON, RAMON L., CNEL. Y OLIVERA AV.</td>\n",
       "      <td>AVENIDA</td>\n",
       "      <td>FALCON, RAMON L.,CNEL.</td>\n",
       "      <td>NaN</td>\n",
       "      <td>OLIVERA AV.</td>\n",
       "      <td>FALCON, RAMON L.,CNEL. y OLIVERA AV.</td>\n",
       "      <td>10</td>\n",
       "      <td>Point (97801.31825511 99194.93911759)</td>\n",
       "      <td>-58.48727942</td>\n",
       "      <td>-34.63652467</td>\n",
       "      <td>MOTO-OBJETO FIJO</td>\n",
       "      <td>MOTO</td>\n",
       "      <td>OBJETO FIJO</td>\n",
       "    </tr>\n",
       "  </tbody>\n",
       "</table>\n",
       "</div>"
      ],
      "text/plain": [
       "            ID  N_VICTIMAS      FECHA  AAAA  MM  DD      HORA HH  \\\n",
       "611  2021-0013           1 2021-01-31  2021   1  31  06:10:00  6   \n",
       "\n",
       "                           LUGAR_DEL_HECHO TIPO_DE_CALLE  \\\n",
       "611  FALCON, RAMON L., CNEL. Y OLIVERA AV.       AVENIDA   \n",
       "\n",
       "                      Calle  Altura        Cruce  \\\n",
       "611  FALCON, RAMON L.,CNEL.     NaN  OLIVERA AV.   \n",
       "\n",
       "                    Dirección Normalizada  COMUNA  \\\n",
       "611  FALCON, RAMON L.,CNEL. y OLIVERA AV.      10   \n",
       "\n",
       "                                 XY (CABA)         pos x         pos y  \\\n",
       "611  Point (97801.31825511 99194.93911759)  -58.48727942  -34.63652467   \n",
       "\n",
       "        PARTICIPANTES VICTIMA      ACUSADO  \n",
       "611  MOTO-OBJETO FIJO    MOTO  OBJETO FIJO  "
      ]
     },
     "execution_count": 4,
     "metadata": {},
     "output_type": "execute_result"
    }
   ],
   "source": [
    "df_hechos.sample()"
   ]
  },
  {
   "cell_type": "markdown",
   "metadata": {},
   "source": [
    "Se normalizan los nombres de las columnas de la hoja de \"HECHOS\" para brindar una mayor consistencia."
   ]
  },
  {
   "cell_type": "code",
   "execution_count": 5,
   "metadata": {},
   "outputs": [],
   "source": [
    "df_hechos = df_hechos.rename(columns={\n",
    "                                        'ID': 'ID Siniestro',\n",
    "                                        'N_VICTIMAS': 'Número de víctimas',\n",
    "                                        'FECHA': 'Fecha',\n",
    "                                        'AAAA': 'Año',\n",
    "                                        'MM': 'Mes',\n",
    "                                        'DD': 'Día',\n",
    "                                        'HORA': 'Hora',\n",
    "                                        'HH':'Hora entera',\n",
    "                                        'LUGAR_DEL_HECHO':'Lugar del hecho',\n",
    "                                        'TIPO_DE_CALLE':'Tipo de calle',\n",
    "                                        'COMUNA':'Comuna',\n",
    "                                        'XY(CABA)':'Geolocación',\n",
    "                                        'pos x':'Coordenada X',\n",
    "                                        'pos y':'Coordenada Y',\n",
    "                                        'PARTICIPANTES':'Participantes',\n",
    "                                        'VICTIMA':'Víctima',\n",
    "                                        'ACUSADO':'Acusado',\n",
    "                                        })"
   ]
  },
  {
   "cell_type": "code",
   "execution_count": 6,
   "metadata": {},
   "outputs": [
    {
     "data": {
      "text/html": [
       "<div>\n",
       "<style scoped>\n",
       "    .dataframe tbody tr th:only-of-type {\n",
       "        vertical-align: middle;\n",
       "    }\n",
       "\n",
       "    .dataframe tbody tr th {\n",
       "        vertical-align: top;\n",
       "    }\n",
       "\n",
       "    .dataframe thead th {\n",
       "        text-align: right;\n",
       "    }\n",
       "</style>\n",
       "<table border=\"1\" class=\"dataframe\">\n",
       "  <thead>\n",
       "    <tr style=\"text-align: right;\">\n",
       "      <th></th>\n",
       "      <th>ID Siniestro</th>\n",
       "      <th>Número de víctimas</th>\n",
       "      <th>Fecha</th>\n",
       "      <th>Año</th>\n",
       "      <th>Mes</th>\n",
       "      <th>Día</th>\n",
       "      <th>Hora</th>\n",
       "      <th>Hora entera</th>\n",
       "      <th>Lugar del hecho</th>\n",
       "      <th>Tipo de calle</th>\n",
       "      <th>Calle</th>\n",
       "      <th>Altura</th>\n",
       "      <th>Cruce</th>\n",
       "      <th>Dirección Normalizada</th>\n",
       "      <th>Comuna</th>\n",
       "      <th>XY (CABA)</th>\n",
       "      <th>Coordenada X</th>\n",
       "      <th>Coordenada Y</th>\n",
       "      <th>Participantes</th>\n",
       "      <th>Víctima</th>\n",
       "      <th>Acusado</th>\n",
       "    </tr>\n",
       "  </thead>\n",
       "  <tbody>\n",
       "    <tr>\n",
       "      <th>331</th>\n",
       "      <td>2018-0057</td>\n",
       "      <td>1</td>\n",
       "      <td>2018-06-03</td>\n",
       "      <td>2018</td>\n",
       "      <td>6</td>\n",
       "      <td>3</td>\n",
       "      <td>03:30:00</td>\n",
       "      <td>3</td>\n",
       "      <td>Combate De Los Pozos y Humberto 1°</td>\n",
       "      <td>CALLE</td>\n",
       "      <td>COMBATE DE LOS POZOS</td>\n",
       "      <td>NaN</td>\n",
       "      <td>HUMBERTO 1?</td>\n",
       "      <td>COMBATE DE LOS POZOS y HUMBERTO 1Â°</td>\n",
       "      <td>3</td>\n",
       "      <td>Point (106436.50690531 100845.32785530)</td>\n",
       "      <td>-58.39311376</td>\n",
       "      <td>-34.62163006</td>\n",
       "      <td>MOTO-PASAJEROS</td>\n",
       "      <td>MOTO</td>\n",
       "      <td>PASAJEROS</td>\n",
       "    </tr>\n",
       "  </tbody>\n",
       "</table>\n",
       "</div>"
      ],
      "text/plain": [
       "    ID Siniestro  Número de víctimas      Fecha   Año  Mes  Día      Hora  \\\n",
       "331    2018-0057                   1 2018-06-03  2018    6    3  03:30:00   \n",
       "\n",
       "    Hora entera                     Lugar del hecho Tipo de calle  \\\n",
       "331           3  Combate De Los Pozos y Humberto 1°         CALLE   \n",
       "\n",
       "                    Calle  Altura        Cruce  \\\n",
       "331  COMBATE DE LOS POZOS     NaN  HUMBERTO 1?   \n",
       "\n",
       "                   Dirección Normalizada  Comuna  \\\n",
       "331  COMBATE DE LOS POZOS y HUMBERTO 1Â°       3   \n",
       "\n",
       "                                   XY (CABA)  Coordenada X  Coordenada Y  \\\n",
       "331  Point (106436.50690531 100845.32785530)  -58.39311376  -34.62163006   \n",
       "\n",
       "      Participantes Víctima    Acusado  \n",
       "331  MOTO-PASAJEROS    MOTO  PASAJEROS  "
      ]
     },
     "execution_count": 6,
     "metadata": {},
     "output_type": "execute_result"
    }
   ],
   "source": [
    "df_hechos.sample()"
   ]
  },
  {
   "cell_type": "markdown",
   "metadata": {},
   "source": [
    "### Valores nulos."
   ]
  },
  {
   "cell_type": "code",
   "execution_count": 7,
   "metadata": {},
   "outputs": [
    {
     "data": {
      "text/plain": [
       "ID Siniestro               0\n",
       "Número de víctimas         0\n",
       "Fecha                      0\n",
       "Año                        0\n",
       "Mes                        0\n",
       "Día                        0\n",
       "Hora                       0\n",
       "Hora entera                0\n",
       "Lugar del hecho            0\n",
       "Tipo de calle              0\n",
       "Calle                      1\n",
       "Altura                   567\n",
       "Cruce                    171\n",
       "Dirección Normalizada      8\n",
       "Comuna                     0\n",
       "XY (CABA)                  0\n",
       "Coordenada X               0\n",
       "Coordenada Y               0\n",
       "Participantes              0\n",
       "Víctima                    0\n",
       "Acusado                    0\n",
       "dtype: int64"
      ]
     },
     "execution_count": 7,
     "metadata": {},
     "output_type": "execute_result"
    }
   ],
   "source": [
    "nulos_hechos = df_hechos.isnull().sum()\n",
    "nulos_hechos\n"
   ]
  },
  {
   "cell_type": "markdown",
   "metadata": {},
   "source": [
    "### Filas duplicadas."
   ]
  },
  {
   "cell_type": "code",
   "execution_count": 8,
   "metadata": {},
   "outputs": [
    {
     "data": {
      "text/plain": [
       "0"
      ]
     },
     "execution_count": 8,
     "metadata": {},
     "output_type": "execute_result"
    }
   ],
   "source": [
    "hechos_duplicados = df_hechos.duplicated()\n",
    "hechos_duplicados.sum()"
   ]
  },
  {
   "cell_type": "markdown",
   "metadata": {},
   "source": [
    "El dataframe no presenta filas duplicadas."
   ]
  },
  {
   "cell_type": "markdown",
   "metadata": {},
   "source": [
    "### Manejo de columnas."
   ]
  },
  {
   "cell_type": "markdown",
   "metadata": {},
   "source": [
    "**Columna \"ID Siniestro\".**"
   ]
  },
  {
   "cell_type": "code",
   "execution_count": 9,
   "metadata": {},
   "outputs": [
    {
     "data": {
      "text/plain": [
       "ID Siniestro\n",
       "<class 'str'>    696\n",
       "Name: count, dtype: int64"
      ]
     },
     "execution_count": 9,
     "metadata": {},
     "output_type": "execute_result"
    }
   ],
   "source": [
    "tipos_id = df_hechos['ID Siniestro'].apply(type).value_counts()\n",
    "tipos_id"
   ]
  },
  {
   "cell_type": "markdown",
   "metadata": {},
   "source": [
    "Se puede observar que la columna \"ID Siniestro\" esta confomrada únicamente por valores de tipo string."
   ]
  },
  {
   "cell_type": "code",
   "execution_count": 10,
   "metadata": {},
   "outputs": [
    {
     "data": {
      "text/plain": [
       "696"
      ]
     },
     "execution_count": 10,
     "metadata": {},
     "output_type": "execute_result"
    }
   ],
   "source": [
    "id_unicos = df_hechos['ID Siniestro'].nunique()\n",
    "id_unicos"
   ]
  },
  {
   "cell_type": "markdown",
   "metadata": {},
   "source": [
    "Y, a su vez, los valores corresponden a números de identificación unicos para cada fila."
   ]
  },
  {
   "cell_type": "markdown",
   "metadata": {},
   "source": [
    "**Columna \"Hora\".**"
   ]
  },
  {
   "cell_type": "code",
   "execution_count": 11,
   "metadata": {},
   "outputs": [
    {
     "data": {
      "text/plain": [
       "Hora\n",
       "<class 'datetime.time'>        608\n",
       "<class 'str'>                   85\n",
       "<class 'datetime.datetime'>      3\n",
       "Name: count, dtype: int64"
      ]
     },
     "execution_count": 11,
     "metadata": {},
     "output_type": "execute_result"
    }
   ],
   "source": [
    "tipos_hora = df_hechos['Hora'].apply(type).value_counts()\n",
    "tipos_hora"
   ]
  },
  {
   "cell_type": "markdown",
   "metadata": {},
   "source": [
    "Se crea una función que permite convertir los valores que no están en formato \"datetime.time\" a este formato. Y de no se posible se lo convierte a formato \"NaT\"."
   ]
  },
  {
   "cell_type": "code",
   "execution_count": 12,
   "metadata": {},
   "outputs": [],
   "source": [
    "def convert_to_time(x):\n",
    "    try:\n",
    "        return pd.to_datetime(x, format='%H:%M:%S', errors='raise').time()\n",
    "    except (ValueError, TypeError):\n",
    "        return pd.NaT\n",
    "df_hechos['Hora'] = df_hechos['Hora'].apply(convert_to_time)"
   ]
  },
  {
   "cell_type": "code",
   "execution_count": 13,
   "metadata": {},
   "outputs": [
    {
     "data": {
      "text/plain": [
       "Hora\n",
       "<class 'datetime.time'>                          695\n",
       "<class 'pandas._libs.tslibs.nattype.NaTType'>      1\n",
       "Name: count, dtype: int64"
      ]
     },
     "execution_count": 13,
     "metadata": {},
     "output_type": "execute_result"
    }
   ],
   "source": [
    "tipos_hora = df_hechos['Hora'].apply(type).value_counts()\n",
    "tipos_hora"
   ]
  },
  {
   "cell_type": "code",
   "execution_count": 14,
   "metadata": {},
   "outputs": [
    {
     "data": {
      "text/html": [
       "<div>\n",
       "<style scoped>\n",
       "    .dataframe tbody tr th:only-of-type {\n",
       "        vertical-align: middle;\n",
       "    }\n",
       "\n",
       "    .dataframe tbody tr th {\n",
       "        vertical-align: top;\n",
       "    }\n",
       "\n",
       "    .dataframe thead th {\n",
       "        text-align: right;\n",
       "    }\n",
       "</style>\n",
       "<table border=\"1\" class=\"dataframe\">\n",
       "  <thead>\n",
       "    <tr style=\"text-align: right;\">\n",
       "      <th></th>\n",
       "      <th>ID Siniestro</th>\n",
       "      <th>Número de víctimas</th>\n",
       "      <th>Fecha</th>\n",
       "      <th>Año</th>\n",
       "      <th>Mes</th>\n",
       "      <th>Día</th>\n",
       "      <th>Hora</th>\n",
       "      <th>Hora entera</th>\n",
       "      <th>Lugar del hecho</th>\n",
       "      <th>Tipo de calle</th>\n",
       "      <th>Calle</th>\n",
       "      <th>Altura</th>\n",
       "      <th>Cruce</th>\n",
       "      <th>Dirección Normalizada</th>\n",
       "      <th>Comuna</th>\n",
       "      <th>XY (CABA)</th>\n",
       "      <th>Coordenada X</th>\n",
       "      <th>Coordenada Y</th>\n",
       "      <th>Participantes</th>\n",
       "      <th>Víctima</th>\n",
       "      <th>Acusado</th>\n",
       "    </tr>\n",
       "  </thead>\n",
       "  <tbody>\n",
       "    <tr>\n",
       "      <th>518</th>\n",
       "      <td>2019-0103</td>\n",
       "      <td>1</td>\n",
       "      <td>2019-12-18</td>\n",
       "      <td>2019</td>\n",
       "      <td>12</td>\n",
       "      <td>18</td>\n",
       "      <td>NaT</td>\n",
       "      <td>SD</td>\n",
       "      <td>PAZ, GRAL. AV. Y GRIVEO</td>\n",
       "      <td>GRAL PAZ</td>\n",
       "      <td>PAZ, GRAL. AV.</td>\n",
       "      <td>NaN</td>\n",
       "      <td>GRIVEO</td>\n",
       "      <td>PAZ, GRAL. AV. y GRIVEO</td>\n",
       "      <td>11</td>\n",
       "      <td>Point (94643.11254058 103831.57115061)</td>\n",
       "      <td>-58.52169422</td>\n",
       "      <td>-34.59471640</td>\n",
       "      <td>MOTO-MOTO</td>\n",
       "      <td>MOTO</td>\n",
       "      <td>MOTO</td>\n",
       "    </tr>\n",
       "  </tbody>\n",
       "</table>\n",
       "</div>"
      ],
      "text/plain": [
       "    ID Siniestro  Número de víctimas      Fecha   Año  Mes  Día Hora  \\\n",
       "518    2019-0103                   1 2019-12-18  2019   12   18  NaT   \n",
       "\n",
       "    Hora entera          Lugar del hecho Tipo de calle           Calle  \\\n",
       "518          SD  PAZ, GRAL. AV. Y GRIVEO      GRAL PAZ  PAZ, GRAL. AV.   \n",
       "\n",
       "     Altura   Cruce    Dirección Normalizada  Comuna  \\\n",
       "518     NaN  GRIVEO  PAZ, GRAL. AV. y GRIVEO      11   \n",
       "\n",
       "                                  XY (CABA)  Coordenada X  Coordenada Y  \\\n",
       "518  Point (94643.11254058 103831.57115061)  -58.52169422  -34.59471640   \n",
       "\n",
       "    Participantes Víctima Acusado  \n",
       "518     MOTO-MOTO    MOTO    MOTO  "
      ]
     },
     "execution_count": 14,
     "metadata": {},
     "output_type": "execute_result"
    }
   ],
   "source": [
    "df_hechos[df_hechos['Hora'].isna()]"
   ]
  },
  {
   "cell_type": "markdown",
   "metadata": {},
   "source": [
    "Se imputa el valor faltante de la columna por el valor modal de la misma."
   ]
  },
  {
   "cell_type": "code",
   "execution_count": 15,
   "metadata": {},
   "outputs": [],
   "source": [
    "moda = df_hechos['Hora'].mode()[0]\n",
    "df_hechos['Hora'] = df_hechos['Hora'].apply(lambda x: moda if pd.isna(x) else x)"
   ]
  },
  {
   "cell_type": "code",
   "execution_count": 16,
   "metadata": {},
   "outputs": [
    {
     "data": {
      "text/plain": [
       "Hora\n",
       "<class 'datetime.time'>    696\n",
       "Name: count, dtype: int64"
      ]
     },
     "execution_count": 16,
     "metadata": {},
     "output_type": "execute_result"
    }
   ],
   "source": [
    "tipos_hora = df_hechos['Hora'].apply(type).value_counts()\n",
    "tipos_hora"
   ]
  },
  {
   "cell_type": "markdown",
   "metadata": {},
   "source": [
    "**Columna \"Hora entera\".**"
   ]
  },
  {
   "cell_type": "code",
   "execution_count": 17,
   "metadata": {},
   "outputs": [
    {
     "data": {
      "text/plain": [
       "Hora entera\n",
       "<class 'int'>    695\n",
       "<class 'str'>      1\n",
       "Name: count, dtype: int64"
      ]
     },
     "execution_count": 17,
     "metadata": {},
     "output_type": "execute_result"
    }
   ],
   "source": [
    "tipos_hora_e = df_hechos['Hora entera'].apply(type).value_counts()\n",
    "tipos_hora_e"
   ]
  },
  {
   "cell_type": "code",
   "execution_count": 18,
   "metadata": {},
   "outputs": [
    {
     "name": "stdout",
     "output_type": "stream",
     "text": [
      "Los valores unicos de la columna son: [4 1 7 0 5 18 19 15 11 22 16 9 23 6 10 17 12 8 20 21 14 3 2 13 'SD']\n"
     ]
    }
   ],
   "source": [
    "valores_unicos = df_hechos['Hora entera'].unique()\n",
    "print(f'Los valores unicos de la columna son: {(valores_unicos)}')"
   ]
  },
  {
   "cell_type": "code",
   "execution_count": 19,
   "metadata": {},
   "outputs": [
    {
     "data": {
      "text/html": [
       "<div>\n",
       "<style scoped>\n",
       "    .dataframe tbody tr th:only-of-type {\n",
       "        vertical-align: middle;\n",
       "    }\n",
       "\n",
       "    .dataframe tbody tr th {\n",
       "        vertical-align: top;\n",
       "    }\n",
       "\n",
       "    .dataframe thead th {\n",
       "        text-align: right;\n",
       "    }\n",
       "</style>\n",
       "<table border=\"1\" class=\"dataframe\">\n",
       "  <thead>\n",
       "    <tr style=\"text-align: right;\">\n",
       "      <th></th>\n",
       "      <th>ID Siniestro</th>\n",
       "      <th>Número de víctimas</th>\n",
       "      <th>Fecha</th>\n",
       "      <th>Año</th>\n",
       "      <th>Mes</th>\n",
       "      <th>Día</th>\n",
       "      <th>Hora</th>\n",
       "      <th>Hora entera</th>\n",
       "      <th>Lugar del hecho</th>\n",
       "      <th>Tipo de calle</th>\n",
       "      <th>Calle</th>\n",
       "      <th>Altura</th>\n",
       "      <th>Cruce</th>\n",
       "      <th>Dirección Normalizada</th>\n",
       "      <th>Comuna</th>\n",
       "      <th>XY (CABA)</th>\n",
       "      <th>Coordenada X</th>\n",
       "      <th>Coordenada Y</th>\n",
       "      <th>Participantes</th>\n",
       "      <th>Víctima</th>\n",
       "      <th>Acusado</th>\n",
       "    </tr>\n",
       "  </thead>\n",
       "  <tbody>\n",
       "    <tr>\n",
       "      <th>518</th>\n",
       "      <td>2019-0103</td>\n",
       "      <td>1</td>\n",
       "      <td>2019-12-18</td>\n",
       "      <td>2019</td>\n",
       "      <td>12</td>\n",
       "      <td>18</td>\n",
       "      <td>09:00:00</td>\n",
       "      <td>SD</td>\n",
       "      <td>PAZ, GRAL. AV. Y GRIVEO</td>\n",
       "      <td>GRAL PAZ</td>\n",
       "      <td>PAZ, GRAL. AV.</td>\n",
       "      <td>NaN</td>\n",
       "      <td>GRIVEO</td>\n",
       "      <td>PAZ, GRAL. AV. y GRIVEO</td>\n",
       "      <td>11</td>\n",
       "      <td>Point (94643.11254058 103831.57115061)</td>\n",
       "      <td>-58.52169422</td>\n",
       "      <td>-34.59471640</td>\n",
       "      <td>MOTO-MOTO</td>\n",
       "      <td>MOTO</td>\n",
       "      <td>MOTO</td>\n",
       "    </tr>\n",
       "  </tbody>\n",
       "</table>\n",
       "</div>"
      ],
      "text/plain": [
       "    ID Siniestro  Número de víctimas      Fecha   Año  Mes  Día      Hora  \\\n",
       "518    2019-0103                   1 2019-12-18  2019   12   18  09:00:00   \n",
       "\n",
       "    Hora entera          Lugar del hecho Tipo de calle           Calle  \\\n",
       "518          SD  PAZ, GRAL. AV. Y GRIVEO      GRAL PAZ  PAZ, GRAL. AV.   \n",
       "\n",
       "     Altura   Cruce    Dirección Normalizada  Comuna  \\\n",
       "518     NaN  GRIVEO  PAZ, GRAL. AV. y GRIVEO      11   \n",
       "\n",
       "                                  XY (CABA)  Coordenada X  Coordenada Y  \\\n",
       "518  Point (94643.11254058 103831.57115061)  -58.52169422  -34.59471640   \n",
       "\n",
       "    Participantes Víctima Acusado  \n",
       "518     MOTO-MOTO    MOTO    MOTO  "
      ]
     },
     "execution_count": 19,
     "metadata": {},
     "output_type": "execute_result"
    }
   ],
   "source": [
    "df_hechos[df_hechos['Hora entera'] == 'SD']"
   ]
  },
  {
   "cell_type": "markdown",
   "metadata": {},
   "source": [
    "El valor string de la columna  \"Hora entera\" corresponde a la misma fila a la cual se le reemplazó el valor faltante en la columna \"Hora\", por lo que se procede a imputar el valor \"SD\" por \"9\"."
   ]
  },
  {
   "cell_type": "code",
   "execution_count": 20,
   "metadata": {},
   "outputs": [],
   "source": [
    "df_hechos.loc[df_hechos['Hora entera'] == 'SD', 'Hora entera'] = 9"
   ]
  },
  {
   "cell_type": "code",
   "execution_count": 21,
   "metadata": {},
   "outputs": [
    {
     "data": {
      "text/html": [
       "<div>\n",
       "<style scoped>\n",
       "    .dataframe tbody tr th:only-of-type {\n",
       "        vertical-align: middle;\n",
       "    }\n",
       "\n",
       "    .dataframe tbody tr th {\n",
       "        vertical-align: top;\n",
       "    }\n",
       "\n",
       "    .dataframe thead th {\n",
       "        text-align: right;\n",
       "    }\n",
       "</style>\n",
       "<table border=\"1\" class=\"dataframe\">\n",
       "  <thead>\n",
       "    <tr style=\"text-align: right;\">\n",
       "      <th></th>\n",
       "      <th>ID Siniestro</th>\n",
       "      <th>Número de víctimas</th>\n",
       "      <th>Fecha</th>\n",
       "      <th>Año</th>\n",
       "      <th>Mes</th>\n",
       "      <th>Día</th>\n",
       "      <th>Hora</th>\n",
       "      <th>Hora entera</th>\n",
       "      <th>Lugar del hecho</th>\n",
       "      <th>Tipo de calle</th>\n",
       "      <th>Calle</th>\n",
       "      <th>Altura</th>\n",
       "      <th>Cruce</th>\n",
       "      <th>Dirección Normalizada</th>\n",
       "      <th>Comuna</th>\n",
       "      <th>XY (CABA)</th>\n",
       "      <th>Coordenada X</th>\n",
       "      <th>Coordenada Y</th>\n",
       "      <th>Participantes</th>\n",
       "      <th>Víctima</th>\n",
       "      <th>Acusado</th>\n",
       "    </tr>\n",
       "  </thead>\n",
       "  <tbody>\n",
       "    <tr>\n",
       "      <th>518</th>\n",
       "      <td>2019-0103</td>\n",
       "      <td>1</td>\n",
       "      <td>2019-12-18</td>\n",
       "      <td>2019</td>\n",
       "      <td>12</td>\n",
       "      <td>18</td>\n",
       "      <td>09:00:00</td>\n",
       "      <td>9</td>\n",
       "      <td>PAZ, GRAL. AV. Y GRIVEO</td>\n",
       "      <td>GRAL PAZ</td>\n",
       "      <td>PAZ, GRAL. AV.</td>\n",
       "      <td>NaN</td>\n",
       "      <td>GRIVEO</td>\n",
       "      <td>PAZ, GRAL. AV. y GRIVEO</td>\n",
       "      <td>11</td>\n",
       "      <td>Point (94643.11254058 103831.57115061)</td>\n",
       "      <td>-58.52169422</td>\n",
       "      <td>-34.59471640</td>\n",
       "      <td>MOTO-MOTO</td>\n",
       "      <td>MOTO</td>\n",
       "      <td>MOTO</td>\n",
       "    </tr>\n",
       "  </tbody>\n",
       "</table>\n",
       "</div>"
      ],
      "text/plain": [
       "    ID Siniestro  Número de víctimas      Fecha   Año  Mes  Día      Hora  \\\n",
       "518    2019-0103                   1 2019-12-18  2019   12   18  09:00:00   \n",
       "\n",
       "    Hora entera          Lugar del hecho Tipo de calle           Calle  \\\n",
       "518           9  PAZ, GRAL. AV. Y GRIVEO      GRAL PAZ  PAZ, GRAL. AV.   \n",
       "\n",
       "     Altura   Cruce    Dirección Normalizada  Comuna  \\\n",
       "518     NaN  GRIVEO  PAZ, GRAL. AV. y GRIVEO      11   \n",
       "\n",
       "                                  XY (CABA)  Coordenada X  Coordenada Y  \\\n",
       "518  Point (94643.11254058 103831.57115061)  -58.52169422  -34.59471640   \n",
       "\n",
       "    Participantes Víctima Acusado  \n",
       "518     MOTO-MOTO    MOTO    MOTO  "
      ]
     },
     "execution_count": 21,
     "metadata": {},
     "output_type": "execute_result"
    }
   ],
   "source": [
    "df_hechos[df_hechos['ID Siniestro'] == '2019-0103']"
   ]
  },
  {
   "cell_type": "markdown",
   "metadata": {},
   "source": [
    "**Colunma \"Calle\".**"
   ]
  },
  {
   "cell_type": "code",
   "execution_count": 22,
   "metadata": {},
   "outputs": [
    {
     "data": {
      "text/plain": [
       "Calle\n",
       "<class 'str'>      695\n",
       "<class 'float'>      1\n",
       "Name: count, dtype: int64"
      ]
     },
     "execution_count": 22,
     "metadata": {},
     "output_type": "execute_result"
    }
   ],
   "source": [
    "tipos_calle = df_hechos['Calle'].apply(type).value_counts()\n",
    "tipos_calle"
   ]
  },
  {
   "cell_type": "code",
   "execution_count": 23,
   "metadata": {},
   "outputs": [
    {
     "data": {
      "text/html": [
       "<div>\n",
       "<style scoped>\n",
       "    .dataframe tbody tr th:only-of-type {\n",
       "        vertical-align: middle;\n",
       "    }\n",
       "\n",
       "    .dataframe tbody tr th {\n",
       "        vertical-align: top;\n",
       "    }\n",
       "\n",
       "    .dataframe thead th {\n",
       "        text-align: right;\n",
       "    }\n",
       "</style>\n",
       "<table border=\"1\" class=\"dataframe\">\n",
       "  <thead>\n",
       "    <tr style=\"text-align: right;\">\n",
       "      <th></th>\n",
       "      <th>ID Siniestro</th>\n",
       "      <th>Número de víctimas</th>\n",
       "      <th>Fecha</th>\n",
       "      <th>Año</th>\n",
       "      <th>Mes</th>\n",
       "      <th>Día</th>\n",
       "      <th>Hora</th>\n",
       "      <th>Hora entera</th>\n",
       "      <th>Lugar del hecho</th>\n",
       "      <th>Tipo de calle</th>\n",
       "      <th>Calle</th>\n",
       "      <th>Altura</th>\n",
       "      <th>Cruce</th>\n",
       "      <th>Dirección Normalizada</th>\n",
       "      <th>Comuna</th>\n",
       "      <th>XY (CABA)</th>\n",
       "      <th>Coordenada X</th>\n",
       "      <th>Coordenada Y</th>\n",
       "      <th>Participantes</th>\n",
       "      <th>Víctima</th>\n",
       "      <th>Acusado</th>\n",
       "    </tr>\n",
       "  </thead>\n",
       "  <tbody>\n",
       "    <tr>\n",
       "      <th>119</th>\n",
       "      <td>2016-0151</td>\n",
       "      <td>1</td>\n",
       "      <td>2016-11-18</td>\n",
       "      <td>2016</td>\n",
       "      <td>11</td>\n",
       "      <td>18</td>\n",
       "      <td>20:35:00</td>\n",
       "      <td>20</td>\n",
       "      <td>SD</td>\n",
       "      <td>CALLE</td>\n",
       "      <td>NaN</td>\n",
       "      <td>NaN</td>\n",
       "      <td>NaN</td>\n",
       "      <td>NaN</td>\n",
       "      <td>0</td>\n",
       "      <td>Point (. .)</td>\n",
       "      <td>.</td>\n",
       "      <td>.</td>\n",
       "      <td>PEATON-SD</td>\n",
       "      <td>PEATON</td>\n",
       "      <td>SD</td>\n",
       "    </tr>\n",
       "  </tbody>\n",
       "</table>\n",
       "</div>"
      ],
      "text/plain": [
       "    ID Siniestro  Número de víctimas      Fecha   Año  Mes  Día      Hora  \\\n",
       "119    2016-0151                   1 2016-11-18  2016   11   18  20:35:00   \n",
       "\n",
       "    Hora entera Lugar del hecho Tipo de calle Calle  Altura Cruce  \\\n",
       "119          20              SD         CALLE   NaN     NaN   NaN   \n",
       "\n",
       "    Dirección Normalizada  Comuna    XY (CABA) Coordenada X Coordenada Y  \\\n",
       "119                   NaN       0  Point (. .)            .            .   \n",
       "\n",
       "    Participantes Víctima Acusado  \n",
       "119     PEATON-SD  PEATON      SD  "
      ]
     },
     "execution_count": 23,
     "metadata": {},
     "output_type": "execute_result"
    }
   ],
   "source": [
    "filas_float = df_hechos['Calle'].apply(lambda x: isinstance(x, float))\n",
    "df_hechos[filas_float]"
   ]
  },
  {
   "cell_type": "markdown",
   "metadata": {},
   "source": [
    "Al tratarse de un valor de tipo \"NaN\" se procede a imputarlo por \"SD\"."
   ]
  },
  {
   "cell_type": "code",
   "execution_count": 24,
   "metadata": {},
   "outputs": [],
   "source": [
    "df_hechos['Calle'] = df_hechos['Calle'].fillna('SD')"
   ]
  },
  {
   "cell_type": "code",
   "execution_count": 25,
   "metadata": {},
   "outputs": [
    {
     "data": {
      "text/html": [
       "<div>\n",
       "<style scoped>\n",
       "    .dataframe tbody tr th:only-of-type {\n",
       "        vertical-align: middle;\n",
       "    }\n",
       "\n",
       "    .dataframe tbody tr th {\n",
       "        vertical-align: top;\n",
       "    }\n",
       "\n",
       "    .dataframe thead th {\n",
       "        text-align: right;\n",
       "    }\n",
       "</style>\n",
       "<table border=\"1\" class=\"dataframe\">\n",
       "  <thead>\n",
       "    <tr style=\"text-align: right;\">\n",
       "      <th></th>\n",
       "      <th>ID Siniestro</th>\n",
       "      <th>Número de víctimas</th>\n",
       "      <th>Fecha</th>\n",
       "      <th>Año</th>\n",
       "      <th>Mes</th>\n",
       "      <th>Día</th>\n",
       "      <th>Hora</th>\n",
       "      <th>Hora entera</th>\n",
       "      <th>Lugar del hecho</th>\n",
       "      <th>Tipo de calle</th>\n",
       "      <th>Calle</th>\n",
       "      <th>Altura</th>\n",
       "      <th>Cruce</th>\n",
       "      <th>Dirección Normalizada</th>\n",
       "      <th>Comuna</th>\n",
       "      <th>XY (CABA)</th>\n",
       "      <th>Coordenada X</th>\n",
       "      <th>Coordenada Y</th>\n",
       "      <th>Participantes</th>\n",
       "      <th>Víctima</th>\n",
       "      <th>Acusado</th>\n",
       "    </tr>\n",
       "  </thead>\n",
       "  <tbody>\n",
       "    <tr>\n",
       "      <th>119</th>\n",
       "      <td>2016-0151</td>\n",
       "      <td>1</td>\n",
       "      <td>2016-11-18</td>\n",
       "      <td>2016</td>\n",
       "      <td>11</td>\n",
       "      <td>18</td>\n",
       "      <td>20:35:00</td>\n",
       "      <td>20</td>\n",
       "      <td>SD</td>\n",
       "      <td>CALLE</td>\n",
       "      <td>SD</td>\n",
       "      <td>NaN</td>\n",
       "      <td>NaN</td>\n",
       "      <td>NaN</td>\n",
       "      <td>0</td>\n",
       "      <td>Point (. .)</td>\n",
       "      <td>.</td>\n",
       "      <td>.</td>\n",
       "      <td>PEATON-SD</td>\n",
       "      <td>PEATON</td>\n",
       "      <td>SD</td>\n",
       "    </tr>\n",
       "  </tbody>\n",
       "</table>\n",
       "</div>"
      ],
      "text/plain": [
       "    ID Siniestro  Número de víctimas      Fecha   Año  Mes  Día      Hora  \\\n",
       "119    2016-0151                   1 2016-11-18  2016   11   18  20:35:00   \n",
       "\n",
       "    Hora entera Lugar del hecho Tipo de calle Calle  Altura Cruce  \\\n",
       "119          20              SD         CALLE    SD     NaN   NaN   \n",
       "\n",
       "    Dirección Normalizada  Comuna    XY (CABA) Coordenada X Coordenada Y  \\\n",
       "119                   NaN       0  Point (. .)            .            .   \n",
       "\n",
       "    Participantes Víctima Acusado  \n",
       "119     PEATON-SD  PEATON      SD  "
      ]
     },
     "execution_count": 25,
     "metadata": {},
     "output_type": "execute_result"
    }
   ],
   "source": [
    "df_hechos[df_hechos['ID Siniestro'] == '2016-0151']"
   ]
  },
  {
   "cell_type": "markdown",
   "metadata": {},
   "source": [
    "**Columnas \"Altura\" y \"Cruce\".**"
   ]
  },
  {
   "cell_type": "code",
   "execution_count": 26,
   "metadata": {},
   "outputs": [
    {
     "name": "stdout",
     "output_type": "stream",
     "text": [
      "Cruce\n",
      "<class 'str'>      525\n",
      "<class 'float'>    171\n",
      "Name: count, dtype: int64\n",
      "Altura\n",
      "<class 'float'>    696\n",
      "Name: count, dtype: int64\n"
     ]
    }
   ],
   "source": [
    "tipos_cruce = df_hechos['Cruce'].apply(type).value_counts()\n",
    "tipos_altura = df_hechos['Altura'].apply(type).value_counts()\n",
    "print(tipos_cruce)\n",
    "print(tipos_altura)"
   ]
  },
  {
   "cell_type": "code",
   "execution_count": 27,
   "metadata": {},
   "outputs": [
    {
     "data": {
      "text/html": [
       "<div>\n",
       "<style scoped>\n",
       "    .dataframe tbody tr th:only-of-type {\n",
       "        vertical-align: middle;\n",
       "    }\n",
       "\n",
       "    .dataframe tbody tr th {\n",
       "        vertical-align: top;\n",
       "    }\n",
       "\n",
       "    .dataframe thead th {\n",
       "        text-align: right;\n",
       "    }\n",
       "</style>\n",
       "<table border=\"1\" class=\"dataframe\">\n",
       "  <thead>\n",
       "    <tr style=\"text-align: right;\">\n",
       "      <th></th>\n",
       "      <th>Altura</th>\n",
       "      <th>Cruce</th>\n",
       "    </tr>\n",
       "  </thead>\n",
       "  <tbody>\n",
       "    <tr>\n",
       "      <th>0</th>\n",
       "      <td>NaN</td>\n",
       "      <td>FERNANDEZ DE LA CRUZ, F., GRAL. AV.</td>\n",
       "    </tr>\n",
       "    <tr>\n",
       "      <th>1</th>\n",
       "      <td>NaN</td>\n",
       "      <td>DE LOS CORRALES AV.</td>\n",
       "    </tr>\n",
       "    <tr>\n",
       "      <th>2</th>\n",
       "      <td>2034.0</td>\n",
       "      <td>NaN</td>\n",
       "    </tr>\n",
       "    <tr>\n",
       "      <th>3</th>\n",
       "      <td>NaN</td>\n",
       "      <td>VILLEGAS, CONRADO, GRAL.</td>\n",
       "    </tr>\n",
       "    <tr>\n",
       "      <th>4</th>\n",
       "      <td>NaN</td>\n",
       "      <td>SAENZ PE?A, LUIS, PRES.</td>\n",
       "    </tr>\n",
       "    <tr>\n",
       "      <th>5</th>\n",
       "      <td>NaN</td>\n",
       "      <td>ESCALADA AV.</td>\n",
       "    </tr>\n",
       "    <tr>\n",
       "      <th>6</th>\n",
       "      <td>NaN</td>\n",
       "      <td>GONZALEZ, JOAQUIN V.</td>\n",
       "    </tr>\n",
       "    <tr>\n",
       "      <th>7</th>\n",
       "      <td>NaN</td>\n",
       "      <td>DE LOS CORRALES AV.</td>\n",
       "    </tr>\n",
       "    <tr>\n",
       "      <th>8</th>\n",
       "      <td>NaN</td>\n",
       "      <td>IRIGOYEN, BERNARDO DE</td>\n",
       "    </tr>\n",
       "    <tr>\n",
       "      <th>9</th>\n",
       "      <td>1366.0</td>\n",
       "      <td>NaN</td>\n",
       "    </tr>\n",
       "  </tbody>\n",
       "</table>\n",
       "</div>"
      ],
      "text/plain": [
       "   Altura                                Cruce\n",
       "0     NaN  FERNANDEZ DE LA CRUZ, F., GRAL. AV.\n",
       "1     NaN                  DE LOS CORRALES AV.\n",
       "2  2034.0                                  NaN\n",
       "3     NaN             VILLEGAS, CONRADO, GRAL.\n",
       "4     NaN              SAENZ PE?A, LUIS, PRES.\n",
       "5     NaN                         ESCALADA AV.\n",
       "6     NaN                 GONZALEZ, JOAQUIN V.\n",
       "7     NaN                  DE LOS CORRALES AV.\n",
       "8     NaN                IRIGOYEN, BERNARDO DE\n",
       "9  1366.0                                  NaN"
      ]
     },
     "execution_count": 27,
     "metadata": {},
     "output_type": "execute_result"
    }
   ],
   "source": [
    "df_hechos[['Altura', 'Cruce']].head(10)"
   ]
  },
  {
   "cell_type": "markdown",
   "metadata": {},
   "source": [
    "Se puede observar que en los campos que estan completos por valores no nulos en la columna \"Altura\" están vacíos en la columna \"Calle\" y viceversa. Como la columna que posee la menor cantidad de nulos es la columna \"Cruce\", se procede a eliminar la columna \"Altura\" e imputar los valores no nulos por el valor \"Si\" y los valores nulos por \"No\" para señalar los siniestros que se dieron en cruces y los que no."
   ]
  },
  {
   "cell_type": "code",
   "execution_count": 28,
   "metadata": {},
   "outputs": [],
   "source": [
    "df_hechos.drop(['Altura'],axis=1, inplace=True)\n",
    "df_hechos['Cruce'] = df_hechos['Cruce'].fillna('No')\n",
    "df_hechos.loc[df_hechos['Cruce'] != 'No', 'Cruce'] = 'Sí'"
   ]
  },
  {
   "cell_type": "code",
   "execution_count": 29,
   "metadata": {},
   "outputs": [
    {
     "data": {
      "text/html": [
       "<div>\n",
       "<style scoped>\n",
       "    .dataframe tbody tr th:only-of-type {\n",
       "        vertical-align: middle;\n",
       "    }\n",
       "\n",
       "    .dataframe tbody tr th {\n",
       "        vertical-align: top;\n",
       "    }\n",
       "\n",
       "    .dataframe thead th {\n",
       "        text-align: right;\n",
       "    }\n",
       "</style>\n",
       "<table border=\"1\" class=\"dataframe\">\n",
       "  <thead>\n",
       "    <tr style=\"text-align: right;\">\n",
       "      <th></th>\n",
       "      <th>Cruce</th>\n",
       "    </tr>\n",
       "  </thead>\n",
       "  <tbody>\n",
       "    <tr>\n",
       "      <th>0</th>\n",
       "      <td>Sí</td>\n",
       "    </tr>\n",
       "    <tr>\n",
       "      <th>1</th>\n",
       "      <td>Sí</td>\n",
       "    </tr>\n",
       "    <tr>\n",
       "      <th>2</th>\n",
       "      <td>No</td>\n",
       "    </tr>\n",
       "    <tr>\n",
       "      <th>3</th>\n",
       "      <td>Sí</td>\n",
       "    </tr>\n",
       "    <tr>\n",
       "      <th>4</th>\n",
       "      <td>Sí</td>\n",
       "    </tr>\n",
       "    <tr>\n",
       "      <th>5</th>\n",
       "      <td>Sí</td>\n",
       "    </tr>\n",
       "    <tr>\n",
       "      <th>6</th>\n",
       "      <td>Sí</td>\n",
       "    </tr>\n",
       "    <tr>\n",
       "      <th>7</th>\n",
       "      <td>Sí</td>\n",
       "    </tr>\n",
       "    <tr>\n",
       "      <th>8</th>\n",
       "      <td>Sí</td>\n",
       "    </tr>\n",
       "    <tr>\n",
       "      <th>9</th>\n",
       "      <td>No</td>\n",
       "    </tr>\n",
       "  </tbody>\n",
       "</table>\n",
       "</div>"
      ],
      "text/plain": [
       "  Cruce\n",
       "0    Sí\n",
       "1    Sí\n",
       "2    No\n",
       "3    Sí\n",
       "4    Sí\n",
       "5    Sí\n",
       "6    Sí\n",
       "7    Sí\n",
       "8    Sí\n",
       "9    No"
      ]
     },
     "execution_count": 29,
     "metadata": {},
     "output_type": "execute_result"
    }
   ],
   "source": [
    "df_hechos[['Cruce']].head(10)"
   ]
  },
  {
   "cell_type": "markdown",
   "metadata": {},
   "source": [
    "**Columna \"Dirección Normalizada\".**"
   ]
  },
  {
   "cell_type": "code",
   "execution_count": 30,
   "metadata": {},
   "outputs": [
    {
     "data": {
      "text/plain": [
       "Dirección Normalizada\n",
       "<class 'str'>      688\n",
       "<class 'float'>      8\n",
       "Name: count, dtype: int64"
      ]
     },
     "execution_count": 30,
     "metadata": {},
     "output_type": "execute_result"
    }
   ],
   "source": [
    "tipos_direc = df_hechos['Dirección Normalizada'].apply(type).value_counts()\n",
    "tipos_direc"
   ]
  },
  {
   "cell_type": "code",
   "execution_count": 31,
   "metadata": {},
   "outputs": [
    {
     "data": {
      "text/html": [
       "<div>\n",
       "<style scoped>\n",
       "    .dataframe tbody tr th:only-of-type {\n",
       "        vertical-align: middle;\n",
       "    }\n",
       "\n",
       "    .dataframe tbody tr th {\n",
       "        vertical-align: top;\n",
       "    }\n",
       "\n",
       "    .dataframe thead th {\n",
       "        text-align: right;\n",
       "    }\n",
       "</style>\n",
       "<table border=\"1\" class=\"dataframe\">\n",
       "  <thead>\n",
       "    <tr style=\"text-align: right;\">\n",
       "      <th></th>\n",
       "      <th>ID Siniestro</th>\n",
       "      <th>Número de víctimas</th>\n",
       "      <th>Fecha</th>\n",
       "      <th>Año</th>\n",
       "      <th>Mes</th>\n",
       "      <th>Día</th>\n",
       "      <th>Hora</th>\n",
       "      <th>Hora entera</th>\n",
       "      <th>Lugar del hecho</th>\n",
       "      <th>Tipo de calle</th>\n",
       "      <th>Calle</th>\n",
       "      <th>Cruce</th>\n",
       "      <th>Dirección Normalizada</th>\n",
       "      <th>Comuna</th>\n",
       "      <th>XY (CABA)</th>\n",
       "      <th>Coordenada X</th>\n",
       "      <th>Coordenada Y</th>\n",
       "      <th>Participantes</th>\n",
       "      <th>Víctima</th>\n",
       "      <th>Acusado</th>\n",
       "    </tr>\n",
       "  </thead>\n",
       "  <tbody>\n",
       "    <tr>\n",
       "      <th>38</th>\n",
       "      <td>2016-0052</td>\n",
       "      <td>1</td>\n",
       "      <td>2016-04-20</td>\n",
       "      <td>2016</td>\n",
       "      <td>4</td>\n",
       "      <td>20</td>\n",
       "      <td>20:00:00</td>\n",
       "      <td>20</td>\n",
       "      <td>AUTOPISTA LUGONES PK 10000</td>\n",
       "      <td>AUTOPISTA</td>\n",
       "      <td>LUGONES, LEOPOLDO AV.</td>\n",
       "      <td>No</td>\n",
       "      <td>NaN</td>\n",
       "      <td>13</td>\n",
       "      <td>Point (. .)</td>\n",
       "      <td>.</td>\n",
       "      <td>.</td>\n",
       "      <td>MOTO-SD</td>\n",
       "      <td>MOTO</td>\n",
       "      <td>SD</td>\n",
       "    </tr>\n",
       "    <tr>\n",
       "      <th>106</th>\n",
       "      <td>2016-0136</td>\n",
       "      <td>1</td>\n",
       "      <td>2016-10-25</td>\n",
       "      <td>2016</td>\n",
       "      <td>10</td>\n",
       "      <td>25</td>\n",
       "      <td>00:00:00</td>\n",
       "      <td>0</td>\n",
       "      <td>AU BUENOS AIRES - LA PLATA KM. 4</td>\n",
       "      <td>AUTOPISTA</td>\n",
       "      <td>AUTOPISTA BUENOS AIRES - LA PLATA</td>\n",
       "      <td>No</td>\n",
       "      <td>NaN</td>\n",
       "      <td>4</td>\n",
       "      <td>Point (. .)</td>\n",
       "      <td>.</td>\n",
       "      <td>.</td>\n",
       "      <td>MOTO-CARGAS</td>\n",
       "      <td>MOTO</td>\n",
       "      <td>CARGAS</td>\n",
       "    </tr>\n",
       "    <tr>\n",
       "      <th>119</th>\n",
       "      <td>2016-0151</td>\n",
       "      <td>1</td>\n",
       "      <td>2016-11-18</td>\n",
       "      <td>2016</td>\n",
       "      <td>11</td>\n",
       "      <td>18</td>\n",
       "      <td>20:35:00</td>\n",
       "      <td>20</td>\n",
       "      <td>SD</td>\n",
       "      <td>CALLE</td>\n",
       "      <td>SD</td>\n",
       "      <td>No</td>\n",
       "      <td>NaN</td>\n",
       "      <td>0</td>\n",
       "      <td>Point (. .)</td>\n",
       "      <td>.</td>\n",
       "      <td>.</td>\n",
       "      <td>PEATON-SD</td>\n",
       "      <td>PEATON</td>\n",
       "      <td>SD</td>\n",
       "    </tr>\n",
       "    <tr>\n",
       "      <th>180</th>\n",
       "      <td>2017-0050</td>\n",
       "      <td>2</td>\n",
       "      <td>2017-04-28</td>\n",
       "      <td>2017</td>\n",
       "      <td>4</td>\n",
       "      <td>28</td>\n",
       "      <td>11:08:08</td>\n",
       "      <td>11</td>\n",
       "      <td>AU PERITO MORENO Y RAMAL ENLACE AU1/AU6</td>\n",
       "      <td>AUTOPISTA</td>\n",
       "      <td>AUTOPISTA PERITO MORENO</td>\n",
       "      <td>No</td>\n",
       "      <td>NaN</td>\n",
       "      <td>9</td>\n",
       "      <td>Point (. .)</td>\n",
       "      <td>.</td>\n",
       "      <td>.</td>\n",
       "      <td>MOTO-CARGAS</td>\n",
       "      <td>MOTO</td>\n",
       "      <td>CARGAS</td>\n",
       "    </tr>\n",
       "    <tr>\n",
       "      <th>181</th>\n",
       "      <td>2017-0051</td>\n",
       "      <td>1</td>\n",
       "      <td>2017-05-01</td>\n",
       "      <td>2017</td>\n",
       "      <td>5</td>\n",
       "      <td>1</td>\n",
       "      <td>03:47:47</td>\n",
       "      <td>3</td>\n",
       "      <td>AU DELLEPIANE 2400</td>\n",
       "      <td>AUTOPISTA</td>\n",
       "      <td>AUTOPISTA DELLEPIANE LUIS TTE. GRAL.</td>\n",
       "      <td>No</td>\n",
       "      <td>NaN</td>\n",
       "      <td>7</td>\n",
       "      <td>Point (. .)</td>\n",
       "      <td>.</td>\n",
       "      <td>.</td>\n",
       "      <td>AUTO-AUTO</td>\n",
       "      <td>AUTO</td>\n",
       "      <td>AUTO</td>\n",
       "    </tr>\n",
       "    <tr>\n",
       "      <th>313</th>\n",
       "      <td>2018-0039</td>\n",
       "      <td>1</td>\n",
       "      <td>2018-04-21</td>\n",
       "      <td>2018</td>\n",
       "      <td>4</td>\n",
       "      <td>21</td>\n",
       "      <td>22:15:00</td>\n",
       "      <td>22</td>\n",
       "      <td>AUTOPISTA LUGONES KM 4.7</td>\n",
       "      <td>AUTOPISTA</td>\n",
       "      <td>LUGONES, LEOPOLDO AV.</td>\n",
       "      <td>No</td>\n",
       "      <td>NaN</td>\n",
       "      <td>14</td>\n",
       "      <td>Point (. .)</td>\n",
       "      <td>.</td>\n",
       "      <td>.</td>\n",
       "      <td>PEATON-AUTO</td>\n",
       "      <td>PEATON</td>\n",
       "      <td>AUTO</td>\n",
       "    </tr>\n",
       "    <tr>\n",
       "      <th>546</th>\n",
       "      <td>2020-0026</td>\n",
       "      <td>1</td>\n",
       "      <td>2020-05-17</td>\n",
       "      <td>2020</td>\n",
       "      <td>5</td>\n",
       "      <td>17</td>\n",
       "      <td>06:40:00</td>\n",
       "      <td>6</td>\n",
       "      <td>LUGONES, LEOPOLDO AV. KM 6,1</td>\n",
       "      <td>AUTOPISTA</td>\n",
       "      <td>LUGONES, LEOPOLDO AV.</td>\n",
       "      <td>No</td>\n",
       "      <td>NaN</td>\n",
       "      <td>14</td>\n",
       "      <td>Point (. .)</td>\n",
       "      <td>.</td>\n",
       "      <td>.</td>\n",
       "      <td>MOTO-OBJETO FIJO</td>\n",
       "      <td>MOTO</td>\n",
       "      <td>OBJETO FIJO</td>\n",
       "    </tr>\n",
       "    <tr>\n",
       "      <th>621</th>\n",
       "      <td>2021-0023</td>\n",
       "      <td>1</td>\n",
       "      <td>2021-03-01</td>\n",
       "      <td>2021</td>\n",
       "      <td>3</td>\n",
       "      <td>1</td>\n",
       "      <td>09:20:00</td>\n",
       "      <td>9</td>\n",
       "      <td>AU BUENOS AIRES LA PLATA  KM 4,5</td>\n",
       "      <td>AUTOPISTA</td>\n",
       "      <td>AUTOPISTA BUENOS AIRES - LA PLATA</td>\n",
       "      <td>No</td>\n",
       "      <td>NaN</td>\n",
       "      <td>4</td>\n",
       "      <td>Point (. .)</td>\n",
       "      <td>.</td>\n",
       "      <td>.</td>\n",
       "      <td>MOTO-CARGAS</td>\n",
       "      <td>MOTO</td>\n",
       "      <td>CARGAS</td>\n",
       "    </tr>\n",
       "  </tbody>\n",
       "</table>\n",
       "</div>"
      ],
      "text/plain": [
       "    ID Siniestro  Número de víctimas      Fecha   Año  Mes  Día      Hora  \\\n",
       "38     2016-0052                   1 2016-04-20  2016    4   20  20:00:00   \n",
       "106    2016-0136                   1 2016-10-25  2016   10   25  00:00:00   \n",
       "119    2016-0151                   1 2016-11-18  2016   11   18  20:35:00   \n",
       "180    2017-0050                   2 2017-04-28  2017    4   28  11:08:08   \n",
       "181    2017-0051                   1 2017-05-01  2017    5    1  03:47:47   \n",
       "313    2018-0039                   1 2018-04-21  2018    4   21  22:15:00   \n",
       "546    2020-0026                   1 2020-05-17  2020    5   17  06:40:00   \n",
       "621    2021-0023                   1 2021-03-01  2021    3    1  09:20:00   \n",
       "\n",
       "    Hora entera                          Lugar del hecho Tipo de calle  \\\n",
       "38           20               AUTOPISTA LUGONES PK 10000     AUTOPISTA   \n",
       "106           0         AU BUENOS AIRES - LA PLATA KM. 4     AUTOPISTA   \n",
       "119          20                                       SD         CALLE   \n",
       "180          11  AU PERITO MORENO Y RAMAL ENLACE AU1/AU6     AUTOPISTA   \n",
       "181           3                       AU DELLEPIANE 2400     AUTOPISTA   \n",
       "313          22                 AUTOPISTA LUGONES KM 4.7     AUTOPISTA   \n",
       "546           6             LUGONES, LEOPOLDO AV. KM 6,1     AUTOPISTA   \n",
       "621           9         AU BUENOS AIRES LA PLATA  KM 4,5     AUTOPISTA   \n",
       "\n",
       "                                    Calle Cruce Dirección Normalizada  Comuna  \\\n",
       "38                  LUGONES, LEOPOLDO AV.    No                   NaN      13   \n",
       "106     AUTOPISTA BUENOS AIRES - LA PLATA    No                   NaN       4   \n",
       "119                                    SD    No                   NaN       0   \n",
       "180               AUTOPISTA PERITO MORENO    No                   NaN       9   \n",
       "181  AUTOPISTA DELLEPIANE LUIS TTE. GRAL.    No                   NaN       7   \n",
       "313                 LUGONES, LEOPOLDO AV.    No                   NaN      14   \n",
       "546                 LUGONES, LEOPOLDO AV.    No                   NaN      14   \n",
       "621     AUTOPISTA BUENOS AIRES - LA PLATA    No                   NaN       4   \n",
       "\n",
       "       XY (CABA) Coordenada X Coordenada Y     Participantes Víctima  \\\n",
       "38   Point (. .)            .            .           MOTO-SD    MOTO   \n",
       "106  Point (. .)            .            .       MOTO-CARGAS    MOTO   \n",
       "119  Point (. .)            .            .         PEATON-SD  PEATON   \n",
       "180  Point (. .)            .            .       MOTO-CARGAS    MOTO   \n",
       "181  Point (. .)            .            .         AUTO-AUTO    AUTO   \n",
       "313  Point (. .)            .            .       PEATON-AUTO  PEATON   \n",
       "546  Point (. .)            .            .  MOTO-OBJETO FIJO    MOTO   \n",
       "621  Point (. .)            .            .       MOTO-CARGAS    MOTO   \n",
       "\n",
       "         Acusado  \n",
       "38            SD  \n",
       "106       CARGAS  \n",
       "119           SD  \n",
       "180       CARGAS  \n",
       "181         AUTO  \n",
       "313         AUTO  \n",
       "546  OBJETO FIJO  \n",
       "621       CARGAS  "
      ]
     },
     "execution_count": 31,
     "metadata": {},
     "output_type": "execute_result"
    }
   ],
   "source": [
    "filas_float = df_hechos['Dirección Normalizada'].apply(lambda x: isinstance(x, float))\n",
    "df_hechos[filas_float]"
   ]
  },
  {
   "cell_type": "markdown",
   "metadata": {},
   "source": [
    "Se procede a imputar los valores nulos por \"SD\"."
   ]
  },
  {
   "cell_type": "code",
   "execution_count": 32,
   "metadata": {},
   "outputs": [],
   "source": [
    "df_hechos['Dirección Normalizada'] = df_hechos['Dirección Normalizada'].fillna('SD')"
   ]
  },
  {
   "cell_type": "code",
   "execution_count": 33,
   "metadata": {},
   "outputs": [
    {
     "data": {
      "text/plain": [
       "Dirección Normalizada\n",
       "<class 'str'>    696\n",
       "Name: count, dtype: int64"
      ]
     },
     "execution_count": 33,
     "metadata": {},
     "output_type": "execute_result"
    }
   ],
   "source": [
    "tipos_direc = df_hechos['Dirección Normalizada'].apply(type).value_counts()\n",
    "tipos_direc"
   ]
  },
  {
   "cell_type": "markdown",
   "metadata": {},
   "source": [
    "**Columnas de geolocación.**"
   ]
  },
  {
   "cell_type": "code",
   "execution_count": 34,
   "metadata": {},
   "outputs": [
    {
     "data": {
      "text/plain": [
       "(14, 20)"
      ]
     },
     "execution_count": 34,
     "metadata": {},
     "output_type": "execute_result"
    }
   ],
   "source": [
    "filas_caba = df_hechos[df_hechos['XY (CABA)'] == 'Point (. .)']\n",
    "filas_caba.shape\n"
   ]
  },
  {
   "cell_type": "markdown",
   "metadata": {},
   "source": [
    "La cantidad de filas en las que está presente el valor \"Point (. .)\" en la columna \"XY (CABA)\" es 14."
   ]
  },
  {
   "cell_type": "code",
   "execution_count": 35,
   "metadata": {},
   "outputs": [
    {
     "data": {
      "text/html": [
       "<div>\n",
       "<style scoped>\n",
       "    .dataframe tbody tr th:only-of-type {\n",
       "        vertical-align: middle;\n",
       "    }\n",
       "\n",
       "    .dataframe tbody tr th {\n",
       "        vertical-align: top;\n",
       "    }\n",
       "\n",
       "    .dataframe thead th {\n",
       "        text-align: right;\n",
       "    }\n",
       "</style>\n",
       "<table border=\"1\" class=\"dataframe\">\n",
       "  <thead>\n",
       "    <tr style=\"text-align: right;\">\n",
       "      <th></th>\n",
       "      <th>XY (CABA)</th>\n",
       "      <th>Coordenada X</th>\n",
       "      <th>Coordenada Y</th>\n",
       "    </tr>\n",
       "  </thead>\n",
       "  <tbody>\n",
       "    <tr>\n",
       "      <th>35</th>\n",
       "      <td>Point (. .)</td>\n",
       "      <td>-58.37714647568196</td>\n",
       "      <td>-34.63657525428238</td>\n",
       "    </tr>\n",
       "    <tr>\n",
       "      <th>38</th>\n",
       "      <td>Point (. .)</td>\n",
       "      <td>.</td>\n",
       "      <td>.</td>\n",
       "    </tr>\n",
       "    <tr>\n",
       "      <th>71</th>\n",
       "      <td>Point (. .)</td>\n",
       "      <td>-58.47433193007387</td>\n",
       "      <td>-34.66684950051973</td>\n",
       "    </tr>\n",
       "    <tr>\n",
       "      <th>106</th>\n",
       "      <td>Point (. .)</td>\n",
       "      <td>.</td>\n",
       "      <td>.</td>\n",
       "    </tr>\n",
       "    <tr>\n",
       "      <th>119</th>\n",
       "      <td>Point (. .)</td>\n",
       "      <td>.</td>\n",
       "      <td>.</td>\n",
       "    </tr>\n",
       "    <tr>\n",
       "      <th>139</th>\n",
       "      <td>Point (. .)</td>\n",
       "      <td>.</td>\n",
       "      <td>.</td>\n",
       "    </tr>\n",
       "    <tr>\n",
       "      <th>176</th>\n",
       "      <td>Point (. .)</td>\n",
       "      <td>.</td>\n",
       "      <td>.</td>\n",
       "    </tr>\n",
       "    <tr>\n",
       "      <th>180</th>\n",
       "      <td>Point (. .)</td>\n",
       "      <td>.</td>\n",
       "      <td>.</td>\n",
       "    </tr>\n",
       "    <tr>\n",
       "      <th>181</th>\n",
       "      <td>Point (. .)</td>\n",
       "      <td>.</td>\n",
       "      <td>.</td>\n",
       "    </tr>\n",
       "    <tr>\n",
       "      <th>256</th>\n",
       "      <td>Point (. .)</td>\n",
       "      <td>.</td>\n",
       "      <td>.</td>\n",
       "    </tr>\n",
       "    <tr>\n",
       "      <th>313</th>\n",
       "      <td>Point (. .)</td>\n",
       "      <td>.</td>\n",
       "      <td>.</td>\n",
       "    </tr>\n",
       "    <tr>\n",
       "      <th>546</th>\n",
       "      <td>Point (. .)</td>\n",
       "      <td>.</td>\n",
       "      <td>.</td>\n",
       "    </tr>\n",
       "    <tr>\n",
       "      <th>559</th>\n",
       "      <td>Point (. .)</td>\n",
       "      <td>.</td>\n",
       "      <td>.</td>\n",
       "    </tr>\n",
       "    <tr>\n",
       "      <th>621</th>\n",
       "      <td>Point (. .)</td>\n",
       "      <td>.</td>\n",
       "      <td>.</td>\n",
       "    </tr>\n",
       "  </tbody>\n",
       "</table>\n",
       "</div>"
      ],
      "text/plain": [
       "       XY (CABA)        Coordenada X        Coordenada Y\n",
       "35   Point (. .)  -58.37714647568196  -34.63657525428238\n",
       "38   Point (. .)                   .                   .\n",
       "71   Point (. .)  -58.47433193007387  -34.66684950051973\n",
       "106  Point (. .)                   .                   .\n",
       "119  Point (. .)                   .                   .\n",
       "139  Point (. .)                   .                   .\n",
       "176  Point (. .)                   .                   .\n",
       "180  Point (. .)                   .                   .\n",
       "181  Point (. .)                   .                   .\n",
       "256  Point (. .)                   .                   .\n",
       "313  Point (. .)                   .                   .\n",
       "546  Point (. .)                   .                   .\n",
       "559  Point (. .)                   .                   .\n",
       "621  Point (. .)                   .                   ."
      ]
     },
     "execution_count": 35,
     "metadata": {},
     "output_type": "execute_result"
    }
   ],
   "source": [
    "filas_caba[['XY (CABA)', 'Coordenada X', 'Coordenada Y']].head(14)"
   ]
  },
  {
   "cell_type": "markdown",
   "metadata": {},
   "source": [
    "A su vez las columnas \"Coordenada X\" y \"Coordenada Y\" también presentan algunas filas en las que está presente el valor \".\" en lugar de una coordenada."
   ]
  },
  {
   "cell_type": "code",
   "execution_count": 36,
   "metadata": {},
   "outputs": [
    {
     "data": {
      "text/plain": [
       "(12, 20)"
      ]
     },
     "execution_count": 36,
     "metadata": {},
     "output_type": "execute_result"
    }
   ],
   "source": [
    "filas_xy = df_hechos[(df_hechos['Coordenada X'] == '.') & (df_hechos['Coordenada Y'] == '.')]\n",
    "filas_xy.shape"
   ]
  },
  {
   "cell_type": "markdown",
   "metadata": {},
   "source": [
    "La cantidad de filas con dicho valor corresponden a las del dataframe mostrado anteriormente.   \n",
    "Como no hay manera de completar esos campos con el valor correspondiente, se opta por imputar los valores por 0 de las columnas \"XY (CABA)\" ,\"Coordenada X\" y \"Coordenada Y\"."
   ]
  },
  {
   "cell_type": "code",
   "execution_count": 37,
   "metadata": {},
   "outputs": [],
   "source": [
    "df_hechos['Coordenada X'] = df_hechos['Coordenada X'].replace('.', 0)\n",
    "df_hechos['Coordenada Y'] = df_hechos['Coordenada Y'].replace('.', 0)\n",
    "df_hechos['XY (CABA)'] = df_hechos['XY (CABA)'].replace('Point (. .)', 0)"
   ]
  },
  {
   "cell_type": "code",
   "execution_count": 38,
   "metadata": {},
   "outputs": [
    {
     "name": "stdout",
     "output_type": "stream",
     "text": [
      "(14, 20)\n"
     ]
    },
    {
     "data": {
      "text/html": [
       "<div>\n",
       "<style scoped>\n",
       "    .dataframe tbody tr th:only-of-type {\n",
       "        vertical-align: middle;\n",
       "    }\n",
       "\n",
       "    .dataframe tbody tr th {\n",
       "        vertical-align: top;\n",
       "    }\n",
       "\n",
       "    .dataframe thead th {\n",
       "        text-align: right;\n",
       "    }\n",
       "</style>\n",
       "<table border=\"1\" class=\"dataframe\">\n",
       "  <thead>\n",
       "    <tr style=\"text-align: right;\">\n",
       "      <th></th>\n",
       "      <th>XY (CABA)</th>\n",
       "      <th>Coordenada X</th>\n",
       "      <th>Coordenada Y</th>\n",
       "    </tr>\n",
       "  </thead>\n",
       "  <tbody>\n",
       "    <tr>\n",
       "      <th>35</th>\n",
       "      <td>0</td>\n",
       "      <td>-58.37714647568196</td>\n",
       "      <td>-34.63657525428238</td>\n",
       "    </tr>\n",
       "    <tr>\n",
       "      <th>38</th>\n",
       "      <td>0</td>\n",
       "      <td>0</td>\n",
       "      <td>0</td>\n",
       "    </tr>\n",
       "    <tr>\n",
       "      <th>71</th>\n",
       "      <td>0</td>\n",
       "      <td>-58.47433193007387</td>\n",
       "      <td>-34.66684950051973</td>\n",
       "    </tr>\n",
       "    <tr>\n",
       "      <th>106</th>\n",
       "      <td>0</td>\n",
       "      <td>0</td>\n",
       "      <td>0</td>\n",
       "    </tr>\n",
       "    <tr>\n",
       "      <th>119</th>\n",
       "      <td>0</td>\n",
       "      <td>0</td>\n",
       "      <td>0</td>\n",
       "    </tr>\n",
       "    <tr>\n",
       "      <th>139</th>\n",
       "      <td>0</td>\n",
       "      <td>0</td>\n",
       "      <td>0</td>\n",
       "    </tr>\n",
       "    <tr>\n",
       "      <th>176</th>\n",
       "      <td>0</td>\n",
       "      <td>0</td>\n",
       "      <td>0</td>\n",
       "    </tr>\n",
       "    <tr>\n",
       "      <th>180</th>\n",
       "      <td>0</td>\n",
       "      <td>0</td>\n",
       "      <td>0</td>\n",
       "    </tr>\n",
       "    <tr>\n",
       "      <th>181</th>\n",
       "      <td>0</td>\n",
       "      <td>0</td>\n",
       "      <td>0</td>\n",
       "    </tr>\n",
       "    <tr>\n",
       "      <th>256</th>\n",
       "      <td>0</td>\n",
       "      <td>0</td>\n",
       "      <td>0</td>\n",
       "    </tr>\n",
       "    <tr>\n",
       "      <th>313</th>\n",
       "      <td>0</td>\n",
       "      <td>0</td>\n",
       "      <td>0</td>\n",
       "    </tr>\n",
       "    <tr>\n",
       "      <th>546</th>\n",
       "      <td>0</td>\n",
       "      <td>0</td>\n",
       "      <td>0</td>\n",
       "    </tr>\n",
       "    <tr>\n",
       "      <th>559</th>\n",
       "      <td>0</td>\n",
       "      <td>0</td>\n",
       "      <td>0</td>\n",
       "    </tr>\n",
       "    <tr>\n",
       "      <th>621</th>\n",
       "      <td>0</td>\n",
       "      <td>0</td>\n",
       "      <td>0</td>\n",
       "    </tr>\n",
       "  </tbody>\n",
       "</table>\n",
       "</div>"
      ],
      "text/plain": [
       "    XY (CABA)        Coordenada X        Coordenada Y\n",
       "35          0  -58.37714647568196  -34.63657525428238\n",
       "38          0                   0                   0\n",
       "71          0  -58.47433193007387  -34.66684950051973\n",
       "106         0                   0                   0\n",
       "119         0                   0                   0\n",
       "139         0                   0                   0\n",
       "176         0                   0                   0\n",
       "180         0                   0                   0\n",
       "181         0                   0                   0\n",
       "256         0                   0                   0\n",
       "313         0                   0                   0\n",
       "546         0                   0                   0\n",
       "559         0                   0                   0\n",
       "621         0                   0                   0"
      ]
     },
     "execution_count": 38,
     "metadata": {},
     "output_type": "execute_result"
    }
   ],
   "source": [
    "filas_cero = df_hechos[df_hechos['XY (CABA)'] == 0]\n",
    "print(filas_cero.shape)\n",
    "filas_cero[['XY (CABA)', 'Coordenada X', 'Coordenada Y']].head(14)"
   ]
  },
  {
   "cell_type": "markdown",
   "metadata": {},
   "source": [
    "**Columna \"Víctima\"**"
   ]
  },
  {
   "cell_type": "code",
   "execution_count": 39,
   "metadata": {},
   "outputs": [
    {
     "name": "stdout",
     "output_type": "stream",
     "text": [
      "['MOTO' 'AUTO' 'PEATON' 'SD' 'CARGAS' 'BICICLETA' 'PASAJEROS' 'MOVIL'\n",
      " 'OBJETO FIJO' 'PEATON_MOTO']\n"
     ]
    }
   ],
   "source": [
    "vict_unicos = df_hechos['Víctima'].unique()\n",
    "print(vict_unicos)"
   ]
  },
  {
   "cell_type": "code",
   "execution_count": 40,
   "metadata": {},
   "outputs": [
    {
     "data": {
      "text/html": [
       "<div>\n",
       "<style scoped>\n",
       "    .dataframe tbody tr th:only-of-type {\n",
       "        vertical-align: middle;\n",
       "    }\n",
       "\n",
       "    .dataframe tbody tr th {\n",
       "        vertical-align: top;\n",
       "    }\n",
       "\n",
       "    .dataframe thead th {\n",
       "        text-align: right;\n",
       "    }\n",
       "</style>\n",
       "<table border=\"1\" class=\"dataframe\">\n",
       "  <thead>\n",
       "    <tr style=\"text-align: right;\">\n",
       "      <th></th>\n",
       "      <th>ID Siniestro</th>\n",
       "      <th>Número de víctimas</th>\n",
       "      <th>Fecha</th>\n",
       "      <th>Año</th>\n",
       "      <th>Mes</th>\n",
       "      <th>Día</th>\n",
       "      <th>Hora</th>\n",
       "      <th>Hora entera</th>\n",
       "      <th>Lugar del hecho</th>\n",
       "      <th>Tipo de calle</th>\n",
       "      <th>Calle</th>\n",
       "      <th>Cruce</th>\n",
       "      <th>Dirección Normalizada</th>\n",
       "      <th>Comuna</th>\n",
       "      <th>XY (CABA)</th>\n",
       "      <th>Coordenada X</th>\n",
       "      <th>Coordenada Y</th>\n",
       "      <th>Participantes</th>\n",
       "      <th>Víctima</th>\n",
       "      <th>Acusado</th>\n",
       "    </tr>\n",
       "  </thead>\n",
       "  <tbody>\n",
       "    <tr>\n",
       "      <th>230</th>\n",
       "      <td>2017-0108</td>\n",
       "      <td>2</td>\n",
       "      <td>2017-09-02</td>\n",
       "      <td>2017</td>\n",
       "      <td>9</td>\n",
       "      <td>2</td>\n",
       "      <td>04:53:08</td>\n",
       "      <td>4</td>\n",
       "      <td>AV. GRAL. PAZ Y MACHAIN</td>\n",
       "      <td>GRAL PAZ</td>\n",
       "      <td>PAZ, GRAL. AV.</td>\n",
       "      <td>Sí</td>\n",
       "      <td>PAZ, GRAL. AV. y MACHAIN</td>\n",
       "      <td>12</td>\n",
       "      <td>Point (97098.48468623 109019.96106626)</td>\n",
       "      <td>-58.49491054</td>\n",
       "      <td>-34.54795581</td>\n",
       "      <td>AUTO-OBJETO FIJO</td>\n",
       "      <td>OBJETO FIJO</td>\n",
       "      <td>AUTO</td>\n",
       "    </tr>\n",
       "    <tr>\n",
       "      <th>583</th>\n",
       "      <td>2020-0063</td>\n",
       "      <td>2</td>\n",
       "      <td>2020-12-05</td>\n",
       "      <td>2020</td>\n",
       "      <td>12</td>\n",
       "      <td>5</td>\n",
       "      <td>07:10:00</td>\n",
       "      <td>7</td>\n",
       "      <td>NUEVA YORK Y ALTA GRACIA</td>\n",
       "      <td>CALLE</td>\n",
       "      <td>NUEVA YORK</td>\n",
       "      <td>Sí</td>\n",
       "      <td>NUEVA YORK y ALTA GRACIA</td>\n",
       "      <td>11</td>\n",
       "      <td>Point (94080.62190808 102083.62453795)</td>\n",
       "      <td>-58.52783814</td>\n",
       "      <td>-34.61047001</td>\n",
       "      <td>PEATON_MOTO-MOTO</td>\n",
       "      <td>PEATON_MOTO</td>\n",
       "      <td>MOTO</td>\n",
       "    </tr>\n",
       "  </tbody>\n",
       "</table>\n",
       "</div>"
      ],
      "text/plain": [
       "    ID Siniestro  Número de víctimas      Fecha   Año  Mes  Día      Hora  \\\n",
       "230    2017-0108                   2 2017-09-02  2017    9    2  04:53:08   \n",
       "583    2020-0063                   2 2020-12-05  2020   12    5  07:10:00   \n",
       "\n",
       "    Hora entera           Lugar del hecho Tipo de calle           Calle Cruce  \\\n",
       "230           4   AV. GRAL. PAZ Y MACHAIN      GRAL PAZ  PAZ, GRAL. AV.    Sí   \n",
       "583           7  NUEVA YORK Y ALTA GRACIA         CALLE      NUEVA YORK    Sí   \n",
       "\n",
       "        Dirección Normalizada  Comuna                               XY (CABA)  \\\n",
       "230  PAZ, GRAL. AV. y MACHAIN      12  Point (97098.48468623 109019.96106626)   \n",
       "583  NUEVA YORK y ALTA GRACIA      11  Point (94080.62190808 102083.62453795)   \n",
       "\n",
       "     Coordenada X  Coordenada Y     Participantes      Víctima Acusado  \n",
       "230  -58.49491054  -34.54795581  AUTO-OBJETO FIJO  OBJETO FIJO    AUTO  \n",
       "583  -58.52783814  -34.61047001  PEATON_MOTO-MOTO  PEATON_MOTO    MOTO  "
      ]
     },
     "execution_count": 40,
     "metadata": {},
     "output_type": "execute_result"
    }
   ],
   "source": [
    "filas_vict = df_hechos[df_hechos['Víctima'].isin(['OBJETO FIJO', 'PEATON_MOTO'])]\n",
    "filas_vict"
   ]
  },
  {
   "cell_type": "markdown",
   "metadata": {},
   "source": [
    "En el diccionario de datos de Siniestros Viales no se encuentran los valores \"OBJETO FIJO\" ni \"PEATON_MOTO\", por lo que se procede a imputar dichos datos por el valor \"OTRO\", que sí figura en el diccionario."
   ]
  },
  {
   "cell_type": "code",
   "execution_count": 41,
   "metadata": {},
   "outputs": [],
   "source": [
    "df_hechos['Víctima'] = df_hechos['Víctima'].replace({'OBJETO FIJO': 'OTRO', 'PEATON_MOTO': 'OTRO'})"
   ]
  },
  {
   "cell_type": "markdown",
   "metadata": {},
   "source": [
    "A su vez se modifican los valores \"AUTO-OBJETO FIJO\" y \"PEATON_MOTO-MOTO\" de la columna \"Participantes\" para adecuarlos al cambio realizado en la columna \"Víctima\""
   ]
  },
  {
   "cell_type": "code",
   "execution_count": 42,
   "metadata": {},
   "outputs": [],
   "source": [
    "df_hechos['Participantes'] = df_hechos['Participantes'].replace({'AUTO-OBJETO FIJO': 'OTRO-AUTO', 'PEATON_MOTO-MOTO': 'OTRO-MOTO'})"
   ]
  },
  {
   "cell_type": "code",
   "execution_count": 43,
   "metadata": {},
   "outputs": [
    {
     "data": {
      "text/html": [
       "<div>\n",
       "<style scoped>\n",
       "    .dataframe tbody tr th:only-of-type {\n",
       "        vertical-align: middle;\n",
       "    }\n",
       "\n",
       "    .dataframe tbody tr th {\n",
       "        vertical-align: top;\n",
       "    }\n",
       "\n",
       "    .dataframe thead th {\n",
       "        text-align: right;\n",
       "    }\n",
       "</style>\n",
       "<table border=\"1\" class=\"dataframe\">\n",
       "  <thead>\n",
       "    <tr style=\"text-align: right;\">\n",
       "      <th></th>\n",
       "      <th>ID Siniestro</th>\n",
       "      <th>Número de víctimas</th>\n",
       "      <th>Fecha</th>\n",
       "      <th>Año</th>\n",
       "      <th>Mes</th>\n",
       "      <th>Día</th>\n",
       "      <th>Hora</th>\n",
       "      <th>Hora entera</th>\n",
       "      <th>Lugar del hecho</th>\n",
       "      <th>Tipo de calle</th>\n",
       "      <th>Calle</th>\n",
       "      <th>Cruce</th>\n",
       "      <th>Dirección Normalizada</th>\n",
       "      <th>Comuna</th>\n",
       "      <th>XY (CABA)</th>\n",
       "      <th>Coordenada X</th>\n",
       "      <th>Coordenada Y</th>\n",
       "      <th>Participantes</th>\n",
       "      <th>Víctima</th>\n",
       "      <th>Acusado</th>\n",
       "    </tr>\n",
       "  </thead>\n",
       "  <tbody>\n",
       "    <tr>\n",
       "      <th>230</th>\n",
       "      <td>2017-0108</td>\n",
       "      <td>2</td>\n",
       "      <td>2017-09-02</td>\n",
       "      <td>2017</td>\n",
       "      <td>9</td>\n",
       "      <td>2</td>\n",
       "      <td>04:53:08</td>\n",
       "      <td>4</td>\n",
       "      <td>AV. GRAL. PAZ Y MACHAIN</td>\n",
       "      <td>GRAL PAZ</td>\n",
       "      <td>PAZ, GRAL. AV.</td>\n",
       "      <td>Sí</td>\n",
       "      <td>PAZ, GRAL. AV. y MACHAIN</td>\n",
       "      <td>12</td>\n",
       "      <td>Point (97098.48468623 109019.96106626)</td>\n",
       "      <td>-58.49491054</td>\n",
       "      <td>-34.54795581</td>\n",
       "      <td>OTRO-AUTO</td>\n",
       "      <td>OTRO</td>\n",
       "      <td>AUTO</td>\n",
       "    </tr>\n",
       "    <tr>\n",
       "      <th>583</th>\n",
       "      <td>2020-0063</td>\n",
       "      <td>2</td>\n",
       "      <td>2020-12-05</td>\n",
       "      <td>2020</td>\n",
       "      <td>12</td>\n",
       "      <td>5</td>\n",
       "      <td>07:10:00</td>\n",
       "      <td>7</td>\n",
       "      <td>NUEVA YORK Y ALTA GRACIA</td>\n",
       "      <td>CALLE</td>\n",
       "      <td>NUEVA YORK</td>\n",
       "      <td>Sí</td>\n",
       "      <td>NUEVA YORK y ALTA GRACIA</td>\n",
       "      <td>11</td>\n",
       "      <td>Point (94080.62190808 102083.62453795)</td>\n",
       "      <td>-58.52783814</td>\n",
       "      <td>-34.61047001</td>\n",
       "      <td>OTRO-MOTO</td>\n",
       "      <td>OTRO</td>\n",
       "      <td>MOTO</td>\n",
       "    </tr>\n",
       "  </tbody>\n",
       "</table>\n",
       "</div>"
      ],
      "text/plain": [
       "    ID Siniestro  Número de víctimas      Fecha   Año  Mes  Día      Hora  \\\n",
       "230    2017-0108                   2 2017-09-02  2017    9    2  04:53:08   \n",
       "583    2020-0063                   2 2020-12-05  2020   12    5  07:10:00   \n",
       "\n",
       "    Hora entera           Lugar del hecho Tipo de calle           Calle Cruce  \\\n",
       "230           4   AV. GRAL. PAZ Y MACHAIN      GRAL PAZ  PAZ, GRAL. AV.    Sí   \n",
       "583           7  NUEVA YORK Y ALTA GRACIA         CALLE      NUEVA YORK    Sí   \n",
       "\n",
       "        Dirección Normalizada  Comuna                               XY (CABA)  \\\n",
       "230  PAZ, GRAL. AV. y MACHAIN      12  Point (97098.48468623 109019.96106626)   \n",
       "583  NUEVA YORK y ALTA GRACIA      11  Point (94080.62190808 102083.62453795)   \n",
       "\n",
       "     Coordenada X  Coordenada Y Participantes Víctima Acusado  \n",
       "230  -58.49491054  -34.54795581     OTRO-AUTO    OTRO    AUTO  \n",
       "583  -58.52783814  -34.61047001     OTRO-MOTO    OTRO    MOTO  "
      ]
     },
     "execution_count": 43,
     "metadata": {},
     "output_type": "execute_result"
    }
   ],
   "source": [
    "filas_vict = df_hechos[df_hechos['ID Siniestro'].isin(['2017-0108', '2020-0063'])]\n",
    "filas_vict"
   ]
  },
  {
   "cell_type": "markdown",
   "metadata": {},
   "source": [
    "**Columna \"Acusado\"**"
   ]
  },
  {
   "cell_type": "code",
   "execution_count": 44,
   "metadata": {},
   "outputs": [
    {
     "name": "stdout",
     "output_type": "stream",
     "text": [
      "['AUTO' 'PASAJEROS' 'SD' 'OBJETO FIJO' 'CARGAS' 'MOTO' 'MULTIPLE' 'OTRO'\n",
      " 'BICICLETA' 'TREN']\n"
     ]
    }
   ],
   "source": [
    "acus_unico = df_hechos['Acusado'].unique()\n",
    "print(acus_unico)"
   ]
  },
  {
   "cell_type": "markdown",
   "metadata": {},
   "source": [
    "Todos los datos únicos que se visualizan en la columna \"Acusado\" corresponden a los que se describen en el diccionario de siniestros viales."
   ]
  },
  {
   "cell_type": "markdown",
   "metadata": {},
   "source": [
    "**Columna \"Participantes\"**"
   ]
  },
  {
   "cell_type": "code",
   "execution_count": 45,
   "metadata": {},
   "outputs": [
    {
     "name": "stdout",
     "output_type": "stream",
     "text": [
      "['MOTO-AUTO' 'AUTO-PASAJEROS' 'MOTO-SD' 'MOTO-PASAJEROS'\n",
      " 'MOTO-OBJETO FIJO' 'MOTO-CARGAS' 'PEATON-AUTO' 'PEATON-MOTO'\n",
      " 'PEATON-PASAJEROS' 'AUTO-AUTO' 'OTRO-AUTO' 'PEATON-CARGAS' 'MOTO-MOTO'\n",
      " 'MULTIPLE' 'SD-SD' 'AUTO-CARGAS' 'AUTO-SD' 'MOTO-MOVIL' 'CARGAS-CARGAS'\n",
      " 'PEATON-SD' 'BICICLETA-CARGAS' 'SD-CARGAS' 'BICICLETA-PASAJEROS'\n",
      " 'PASAJEROS-PASAJEROS' 'MOVIL-PASAJEROS' 'CARGAS-OBJETO FIJO'\n",
      " 'PEATON-BICICLETA' 'SD-AUTO' 'CARGAS-AUTO' 'BICICLETA-AUTO'\n",
      " 'MOTO-BICICLETA' 'SD-MOTO' 'MOVIL-CARGAS' 'PASAJEROS-AUTO' 'AUTO-MOVIL'\n",
      " 'CARGAS-PASAJEROS' 'BICICLETA-TREN' 'BICICLETA-OTRO' 'MOTO-OTRO'\n",
      " 'OTRO-MOTO' 'PASAJEROS-SD']\n"
     ]
    }
   ],
   "source": [
    "part_unicos = df_hechos['Participantes'].unique()\n",
    "print(part_unicos)"
   ]
  },
  {
   "cell_type": "markdown",
   "metadata": {},
   "source": [
    "Todos los datos en la columna \"Participantes\" corresponden a los estipulados en el diccionario."
   ]
  },
  {
   "cell_type": "markdown",
   "metadata": {},
   "source": [
    "## Víctimas  \n",
    "Se extraen los datos de la hoja \"VICTIMAS\" del archivo \"homicidios.xlxs\"."
   ]
  },
  {
   "cell_type": "code",
   "execution_count": 46,
   "metadata": {},
   "outputs": [],
   "source": [
    "victimas = 'C:\\\\Users\\\\fedez\\\\OneDrive\\\\Escritorio\\\\PI_02.zip\\\\PI-Data Analytics\\\\Data\\\\homicidios.xlsx'\n",
    "df_victimas = pd.read_excel(victimas, engine='openpyxl', sheet_name='VICTIMAS')"
   ]
  },
  {
   "cell_type": "code",
   "execution_count": 47,
   "metadata": {},
   "outputs": [
    {
     "name": "stdout",
     "output_type": "stream",
     "text": [
      "<class 'pandas.core.frame.DataFrame'>\n",
      "RangeIndex: 717 entries, 0 to 716\n",
      "Data columns (total 10 columns):\n",
      " #   Column               Non-Null Count  Dtype         \n",
      "---  ------               --------------  -----         \n",
      " 0   ID_hecho             717 non-null    object        \n",
      " 1   FECHA                717 non-null    datetime64[ns]\n",
      " 2   AAAA                 717 non-null    int64         \n",
      " 3   MM                   717 non-null    int64         \n",
      " 4   DD                   717 non-null    int64         \n",
      " 5   ROL                  717 non-null    object        \n",
      " 6   VICTIMA              717 non-null    object        \n",
      " 7   SEXO                 717 non-null    object        \n",
      " 8   EDAD                 717 non-null    object        \n",
      " 9   FECHA_FALLECIMIENTO  717 non-null    object        \n",
      "dtypes: datetime64[ns](1), int64(3), object(6)\n",
      "memory usage: 56.1+ KB\n"
     ]
    }
   ],
   "source": [
    "df_victimas.info()"
   ]
  },
  {
   "cell_type": "markdown",
   "metadata": {},
   "source": [
    "Se normalizan los nombres de las columnas de la hoja de \"VICTIMAS\" para brindar una mayor consistencia. "
   ]
  },
  {
   "cell_type": "code",
   "execution_count": 48,
   "metadata": {},
   "outputs": [],
   "source": [
    "df_victimas = df_victimas.rename(columns={\n",
    "                                        'ID_hecho': 'ID Siniestro',\n",
    "                                        'FECHA': 'Fecha',\n",
    "                                        'AAAA': 'Año',\n",
    "                                        'MM': 'Mes',\n",
    "                                        'DD': 'Día',\n",
    "                                        'ROL': 'Rol víctima',\n",
    "                                        'VICTIMA':'Víctima',\n",
    "                                        'SEXO':'Sexo',\n",
    "                                        'EDAD':'Edad',\n",
    "                                        'FECHA_FALLECIMIENTO':'Fecha Fallecimiento'\n",
    "                                        })"
   ]
  },
  {
   "cell_type": "code",
   "execution_count": 49,
   "metadata": {},
   "outputs": [
    {
     "data": {
      "text/html": [
       "<div>\n",
       "<style scoped>\n",
       "    .dataframe tbody tr th:only-of-type {\n",
       "        vertical-align: middle;\n",
       "    }\n",
       "\n",
       "    .dataframe tbody tr th {\n",
       "        vertical-align: top;\n",
       "    }\n",
       "\n",
       "    .dataframe thead th {\n",
       "        text-align: right;\n",
       "    }\n",
       "</style>\n",
       "<table border=\"1\" class=\"dataframe\">\n",
       "  <thead>\n",
       "    <tr style=\"text-align: right;\">\n",
       "      <th></th>\n",
       "      <th>ID Siniestro</th>\n",
       "      <th>Fecha</th>\n",
       "      <th>Año</th>\n",
       "      <th>Mes</th>\n",
       "      <th>Día</th>\n",
       "      <th>Rol víctima</th>\n",
       "      <th>Víctima</th>\n",
       "      <th>Sexo</th>\n",
       "      <th>Edad</th>\n",
       "      <th>Fecha Fallecimiento</th>\n",
       "    </tr>\n",
       "  </thead>\n",
       "  <tbody>\n",
       "    <tr>\n",
       "      <th>677</th>\n",
       "      <td>2021-0058</td>\n",
       "      <td>2021-07-21</td>\n",
       "      <td>2021</td>\n",
       "      <td>7</td>\n",
       "      <td>21</td>\n",
       "      <td>PEATON</td>\n",
       "      <td>PEATON</td>\n",
       "      <td>MASCULINO</td>\n",
       "      <td>24</td>\n",
       "      <td>2021-07-21 00:00:00</td>\n",
       "    </tr>\n",
       "  </tbody>\n",
       "</table>\n",
       "</div>"
      ],
      "text/plain": [
       "    ID Siniestro      Fecha   Año  Mes  Día Rol víctima Víctima       Sexo  \\\n",
       "677    2021-0058 2021-07-21  2021    7   21      PEATON  PEATON  MASCULINO   \n",
       "\n",
       "    Edad  Fecha Fallecimiento  \n",
       "677   24  2021-07-21 00:00:00  "
      ]
     },
     "execution_count": 49,
     "metadata": {},
     "output_type": "execute_result"
    }
   ],
   "source": [
    "df_victimas.sample()"
   ]
  },
  {
   "cell_type": "markdown",
   "metadata": {},
   "source": [
    "### Valores nulos"
   ]
  },
  {
   "cell_type": "code",
   "execution_count": 50,
   "metadata": {},
   "outputs": [
    {
     "data": {
      "text/plain": [
       "ID Siniestro           0\n",
       "Fecha                  0\n",
       "Año                    0\n",
       "Mes                    0\n",
       "Día                    0\n",
       "Rol víctima            0\n",
       "Víctima                0\n",
       "Sexo                   0\n",
       "Edad                   0\n",
       "Fecha Fallecimiento    0\n",
       "dtype: int64"
      ]
     },
     "execution_count": 50,
     "metadata": {},
     "output_type": "execute_result"
    }
   ],
   "source": [
    "nulos_victimas = df_victimas.isnull().sum()\n",
    "nulos_victimas"
   ]
  },
  {
   "cell_type": "markdown",
   "metadata": {},
   "source": [
    "El dataframe no presenta columnas con valores nulos."
   ]
  },
  {
   "cell_type": "markdown",
   "metadata": {},
   "source": [
    "### Filas duplicadas."
   ]
  },
  {
   "cell_type": "code",
   "execution_count": 51,
   "metadata": {},
   "outputs": [
    {
     "data": {
      "text/plain": [
       "0"
      ]
     },
     "execution_count": 51,
     "metadata": {},
     "output_type": "execute_result"
    }
   ],
   "source": [
    "victimas_duplicados = df_victimas.duplicated()\n",
    "victimas_duplicados.sum()"
   ]
  },
  {
   "cell_type": "markdown",
   "metadata": {},
   "source": [
    "El dataframe no presenta filas duplicadas."
   ]
  },
  {
   "cell_type": "markdown",
   "metadata": {},
   "source": [
    "### Manejo de columnas."
   ]
  },
  {
   "cell_type": "markdown",
   "metadata": {},
   "source": [
    "**Eliminación de columans innecesarias**"
   ]
  },
  {
   "cell_type": "markdown",
   "metadata": {},
   "source": [
    "Se opta eliminar las columnas que se comparten con \"df_hechos\" ya que se hará un merge con \"df_hechos\" y se quedarán las columnas que se necesiten. Y también se decide eliminar la columna \"Fecha Fallecimiento\" ya que se vuelve redundante al presentar los mismos datos que las columns \"Fecha\" y \"Hora\"."
   ]
  },
  {
   "cell_type": "code",
   "execution_count": 52,
   "metadata": {},
   "outputs": [
    {
     "data": {
      "text/html": [
       "<div>\n",
       "<style scoped>\n",
       "    .dataframe tbody tr th:only-of-type {\n",
       "        vertical-align: middle;\n",
       "    }\n",
       "\n",
       "    .dataframe tbody tr th {\n",
       "        vertical-align: top;\n",
       "    }\n",
       "\n",
       "    .dataframe thead th {\n",
       "        text-align: right;\n",
       "    }\n",
       "</style>\n",
       "<table border=\"1\" class=\"dataframe\">\n",
       "  <thead>\n",
       "    <tr style=\"text-align: right;\">\n",
       "      <th></th>\n",
       "      <th>ID Siniestro</th>\n",
       "      <th>Rol víctima</th>\n",
       "      <th>Sexo</th>\n",
       "      <th>Edad</th>\n",
       "    </tr>\n",
       "  </thead>\n",
       "  <tbody>\n",
       "    <tr>\n",
       "      <th>306</th>\n",
       "      <td>2018-0020</td>\n",
       "      <td>CONDUCTOR</td>\n",
       "      <td>MASCULINO</td>\n",
       "      <td>26</td>\n",
       "    </tr>\n",
       "  </tbody>\n",
       "</table>\n",
       "</div>"
      ],
      "text/plain": [
       "    ID Siniestro Rol víctima       Sexo Edad\n",
       "306    2018-0020   CONDUCTOR  MASCULINO   26"
      ]
     },
     "execution_count": 52,
     "metadata": {},
     "output_type": "execute_result"
    }
   ],
   "source": [
    "df_victimas.drop(['Fecha', 'Año', 'Mes', 'Día', 'Víctima', 'Fecha Fallecimiento'],axis=1, inplace=True)\n",
    "df_victimas.sample()"
   ]
  },
  {
   "cell_type": "markdown",
   "metadata": {},
   "source": [
    "**Columna \"ID Siniestro\"**"
   ]
  },
  {
   "cell_type": "code",
   "execution_count": 53,
   "metadata": {},
   "outputs": [
    {
     "data": {
      "text/plain": [
       "ID Siniestro\n",
       "<class 'str'>    717\n",
       "Name: count, dtype: int64"
      ]
     },
     "execution_count": 53,
     "metadata": {},
     "output_type": "execute_result"
    }
   ],
   "source": [
    "tipos_ID = df_victimas['ID Siniestro'].apply(type).value_counts()\n",
    "tipos_ID"
   ]
  },
  {
   "cell_type": "code",
   "execution_count": 54,
   "metadata": {},
   "outputs": [
    {
     "data": {
      "text/plain": [
       "41"
      ]
     },
     "execution_count": 54,
     "metadata": {},
     "output_type": "execute_result"
    }
   ],
   "source": [
    "id_dup= df_victimas.duplicated(subset=['ID Siniestro'], keep=False).sum()\n",
    "id_dup"
   ]
  },
  {
   "cell_type": "markdown",
   "metadata": {},
   "source": [
    "El dataframe presenta 41 números ID duplicados."
   ]
  },
  {
   "cell_type": "code",
   "execution_count": 55,
   "metadata": {},
   "outputs": [
    {
     "data": {
      "text/html": [
       "<div>\n",
       "<style scoped>\n",
       "    .dataframe tbody tr th:only-of-type {\n",
       "        vertical-align: middle;\n",
       "    }\n",
       "\n",
       "    .dataframe tbody tr th {\n",
       "        vertical-align: top;\n",
       "    }\n",
       "\n",
       "    .dataframe thead th {\n",
       "        text-align: right;\n",
       "    }\n",
       "</style>\n",
       "<table border=\"1\" class=\"dataframe\">\n",
       "  <thead>\n",
       "    <tr style=\"text-align: right;\">\n",
       "      <th></th>\n",
       "      <th>ID Siniestro</th>\n",
       "      <th>Rol víctima</th>\n",
       "      <th>Sexo</th>\n",
       "      <th>Edad</th>\n",
       "    </tr>\n",
       "  </thead>\n",
       "  <tbody>\n",
       "    <tr>\n",
       "      <th>29</th>\n",
       "      <td>2016-0041</td>\n",
       "      <td>CONDUCTOR</td>\n",
       "      <td>MASCULINO</td>\n",
       "      <td>54</td>\n",
       "    </tr>\n",
       "    <tr>\n",
       "      <th>30</th>\n",
       "      <td>2016-0041</td>\n",
       "      <td>PASAJERO_ACOMPAÑANTE</td>\n",
       "      <td>MASCULINO</td>\n",
       "      <td>SD</td>\n",
       "    </tr>\n",
       "    <tr>\n",
       "      <th>98</th>\n",
       "      <td>2016-0126</td>\n",
       "      <td>CONDUCTOR</td>\n",
       "      <td>MASCULINO</td>\n",
       "      <td>37</td>\n",
       "    </tr>\n",
       "    <tr>\n",
       "      <th>99</th>\n",
       "      <td>2016-0126</td>\n",
       "      <td>PASAJERO_ACOMPAÑANTE</td>\n",
       "      <td>MASCULINO</td>\n",
       "      <td>60</td>\n",
       "    </tr>\n",
       "    <tr>\n",
       "      <th>163</th>\n",
       "      <td>2017-0026</td>\n",
       "      <td>PASAJERO_ACOMPAÑANTE</td>\n",
       "      <td>FEMENINO</td>\n",
       "      <td>23</td>\n",
       "    </tr>\n",
       "    <tr>\n",
       "      <th>164</th>\n",
       "      <td>2017-0026</td>\n",
       "      <td>CONDUCTOR</td>\n",
       "      <td>MASCULINO</td>\n",
       "      <td>19</td>\n",
       "    </tr>\n",
       "  </tbody>\n",
       "</table>\n",
       "</div>"
      ],
      "text/plain": [
       "    ID Siniestro           Rol víctima       Sexo Edad\n",
       "29     2016-0041             CONDUCTOR  MASCULINO   54\n",
       "30     2016-0041  PASAJERO_ACOMPAÑANTE  MASCULINO   SD\n",
       "98     2016-0126             CONDUCTOR  MASCULINO   37\n",
       "99     2016-0126  PASAJERO_ACOMPAÑANTE  MASCULINO   60\n",
       "163    2017-0026  PASAJERO_ACOMPAÑANTE   FEMENINO   23\n",
       "164    2017-0026             CONDUCTOR  MASCULINO   19"
      ]
     },
     "execution_count": 55,
     "metadata": {},
     "output_type": "execute_result"
    }
   ],
   "source": [
    "filas_dup_id = df_victimas[df_victimas.duplicated(subset=['ID Siniestro'], keep=False)]\n",
    "filas_dup_id.head(6)"
   ]
  },
  {
   "cell_type": "markdown",
   "metadata": {},
   "source": [
    "Se puede apreciar que el motivo por el que hay números ID duplicados se debe a que son siniestros en los que se implicó como víctima fatal a más de una persona."
   ]
  },
  {
   "cell_type": "markdown",
   "metadata": {},
   "source": [
    "**Columna \"Sexo\"**"
   ]
  },
  {
   "cell_type": "code",
   "execution_count": 56,
   "metadata": {},
   "outputs": [
    {
     "data": {
      "text/plain": [
       "Sexo\n",
       "<class 'str'>    717\n",
       "Name: count, dtype: int64"
      ]
     },
     "execution_count": 56,
     "metadata": {},
     "output_type": "execute_result"
    }
   ],
   "source": [
    "tipos_sexo = df_victimas['Sexo'].apply(type).value_counts()\n",
    "tipos_sexo"
   ]
  },
  {
   "cell_type": "code",
   "execution_count": 57,
   "metadata": {},
   "outputs": [
    {
     "name": "stdout",
     "output_type": "stream",
     "text": [
      "['MASCULINO' 'FEMENINO' 'SD']\n"
     ]
    }
   ],
   "source": [
    "sexo_unicos = df_victimas['Sexo'].unique()\n",
    "print(sexo_unicos)"
   ]
  },
  {
   "cell_type": "code",
   "execution_count": 64,
   "metadata": {},
   "outputs": [
    {
     "name": "stdout",
     "output_type": "stream",
     "text": [
      "(6, 4)\n"
     ]
    },
    {
     "data": {
      "text/html": [
       "<div>\n",
       "<style scoped>\n",
       "    .dataframe tbody tr th:only-of-type {\n",
       "        vertical-align: middle;\n",
       "    }\n",
       "\n",
       "    .dataframe tbody tr th {\n",
       "        vertical-align: top;\n",
       "    }\n",
       "\n",
       "    .dataframe thead th {\n",
       "        text-align: right;\n",
       "    }\n",
       "</style>\n",
       "<table border=\"1\" class=\"dataframe\">\n",
       "  <thead>\n",
       "    <tr style=\"text-align: right;\">\n",
       "      <th></th>\n",
       "      <th>ID Siniestro</th>\n",
       "      <th>Rol víctima</th>\n",
       "      <th>Sexo</th>\n",
       "      <th>Edad</th>\n",
       "    </tr>\n",
       "  </thead>\n",
       "  <tbody>\n",
       "    <tr>\n",
       "      <th>36</th>\n",
       "      <td>2016-0049</td>\n",
       "      <td>SD</td>\n",
       "      <td>SD</td>\n",
       "      <td>SD</td>\n",
       "    </tr>\n",
       "    <tr>\n",
       "      <th>39</th>\n",
       "      <td>2016-0052</td>\n",
       "      <td>SD</td>\n",
       "      <td>SD</td>\n",
       "      <td>SD</td>\n",
       "    </tr>\n",
       "    <tr>\n",
       "      <th>108</th>\n",
       "      <td>2016-0136</td>\n",
       "      <td>CONDUCTOR</td>\n",
       "      <td>SD</td>\n",
       "      <td>SD</td>\n",
       "    </tr>\n",
       "    <tr>\n",
       "      <th>121</th>\n",
       "      <td>2016-0151</td>\n",
       "      <td>PEATON</td>\n",
       "      <td>SD</td>\n",
       "      <td>SD</td>\n",
       "    </tr>\n",
       "    <tr>\n",
       "      <th>138</th>\n",
       "      <td>2016-0171</td>\n",
       "      <td>CONDUCTOR</td>\n",
       "      <td>SD</td>\n",
       "      <td>SD</td>\n",
       "    </tr>\n",
       "    <tr>\n",
       "      <th>141</th>\n",
       "      <td>2016-0174</td>\n",
       "      <td>SD</td>\n",
       "      <td>SD</td>\n",
       "      <td>SD</td>\n",
       "    </tr>\n",
       "  </tbody>\n",
       "</table>\n",
       "</div>"
      ],
      "text/plain": [
       "    ID Siniestro Rol víctima Sexo Edad\n",
       "36     2016-0049          SD   SD   SD\n",
       "39     2016-0052          SD   SD   SD\n",
       "108    2016-0136   CONDUCTOR   SD   SD\n",
       "121    2016-0151      PEATON   SD   SD\n",
       "138    2016-0171   CONDUCTOR   SD   SD\n",
       "141    2016-0174          SD   SD   SD"
      ]
     },
     "execution_count": 64,
     "metadata": {},
     "output_type": "execute_result"
    }
   ],
   "source": [
    "sexo_sd = df_victimas[df_victimas['Sexo'].isin(['SD'])]\n",
    "print(sexo_sd.shape)\n",
    "sexo_sd"
   ]
  },
  {
   "cell_type": "markdown",
   "metadata": {},
   "source": [
    "La columna \"Sexo\" presenta seis valores de tipo \"SD\", por lo que se decide imputar dichos valores por el valor modal."
   ]
  },
  {
   "cell_type": "code",
   "execution_count": 66,
   "metadata": {},
   "outputs": [
    {
     "name": "stdout",
     "output_type": "stream",
     "text": [
      "El valor mas frecuente la columna \"Sexo\" es: MASCULINO\n"
     ]
    }
   ],
   "source": [
    "moda = df_victimas['Sexo'].mode()[0]\n",
    "df_victimas['Sexo'] = df_victimas['Sexo'].replace('SD', moda)\n",
    "print(f'El valor mas frecuente la columna \"Sexo\" es: {moda}')"
   ]
  },
  {
   "cell_type": "markdown",
   "metadata": {},
   "source": [
    "Se verifica que el cambio se haya efectuado."
   ]
  },
  {
   "cell_type": "code",
   "execution_count": 67,
   "metadata": {},
   "outputs": [
    {
     "name": "stdout",
     "output_type": "stream",
     "text": [
      "(0, 4)\n"
     ]
    },
    {
     "data": {
      "text/html": [
       "<div>\n",
       "<style scoped>\n",
       "    .dataframe tbody tr th:only-of-type {\n",
       "        vertical-align: middle;\n",
       "    }\n",
       "\n",
       "    .dataframe tbody tr th {\n",
       "        vertical-align: top;\n",
       "    }\n",
       "\n",
       "    .dataframe thead th {\n",
       "        text-align: right;\n",
       "    }\n",
       "</style>\n",
       "<table border=\"1\" class=\"dataframe\">\n",
       "  <thead>\n",
       "    <tr style=\"text-align: right;\">\n",
       "      <th></th>\n",
       "      <th>ID Siniestro</th>\n",
       "      <th>Rol víctima</th>\n",
       "      <th>Sexo</th>\n",
       "      <th>Edad</th>\n",
       "    </tr>\n",
       "  </thead>\n",
       "  <tbody>\n",
       "  </tbody>\n",
       "</table>\n",
       "</div>"
      ],
      "text/plain": [
       "Empty DataFrame\n",
       "Columns: [ID Siniestro, Rol víctima, Sexo, Edad]\n",
       "Index: []"
      ]
     },
     "execution_count": 67,
     "metadata": {},
     "output_type": "execute_result"
    }
   ],
   "source": [
    "sexo_sd = df_victimas[df_victimas['Sexo'].isin(['SD'])]\n",
    "print(sexo_sd.shape)\n",
    "sexo_sd"
   ]
  },
  {
   "cell_type": "markdown",
   "metadata": {},
   "source": [
    "**Columna \"Edad\"**"
   ]
  },
  {
   "cell_type": "code",
   "execution_count": 65,
   "metadata": {},
   "outputs": [
    {
     "data": {
      "text/plain": [
       "Edad\n",
       "<class 'int'>    664\n",
       "<class 'str'>     53\n",
       "Name: count, dtype: int64"
      ]
     },
     "execution_count": 65,
     "metadata": {},
     "output_type": "execute_result"
    }
   ],
   "source": [
    "tipos_edad = df_victimas['Edad'].apply(type).value_counts()\n",
    "tipos_edad"
   ]
  },
  {
   "cell_type": "markdown",
   "metadata": {},
   "source": [
    "Se aprecia que la columna presenta valores de tipo \"string\" cuando solo deberia presentar valores numéricos."
   ]
  },
  {
   "cell_type": "code",
   "execution_count": 74,
   "metadata": {},
   "outputs": [
    {
     "name": "stdout",
     "output_type": "stream",
     "text": [
      "['SD']\n"
     ]
    }
   ],
   "source": [
    "valores_str = df_victimas['Edad'][df_victimas['Edad'].apply(lambda x: isinstance(x, str))]\n",
    "valor_unico_str = valores_str.unique()\n",
    "print(valor_unico_str)"
   ]
  },
  {
   "cell_type": "markdown",
   "metadata": {},
   "source": [
    "Los 53 valores de tipo \"string\" que se encuentran en la columna corresponden al valor \"SD\". Se decide imputar los datos faltantes con por la media de edad teniendo en cuenta el rol de la víctima."
   ]
  },
  {
   "cell_type": "code",
   "execution_count": 80,
   "metadata": {},
   "outputs": [],
   "source": [
    "# Se convierten los valores no numéricos a valores nulos.\n",
    "df_victimas['Edad'] = pd.to_numeric(df_victimas['Edad'], errors='coerce')\n",
    "\n",
    "# Se calcula la media de la edad por grupo\n",
    "edad_promedio_por_grupo = df_victimas.groupby('Rol víctima')['Edad'].mean()\n",
    "\n",
    "# Se define una función para reemplazar los valores nulos de la columna \"Edad\" por la media de la edad por grupo.\n",
    "def reemplazar_sd(row):\n",
    "    if pd.isna(row['Edad']):\n",
    "        return edad_promedio_por_grupo[row['Rol víctima']]\n",
    "    else:\n",
    "        return row['Edad']\n",
    "\n",
    "# Se aplica la función a los elementos de la columna \"Edad\".\n",
    "df_victimas['Edad'] = df_victimas.apply(reemplazar_sd, axis=1)\n",
    "\n",
    "#Se convierten los valores de la columna \"Edad\" a tipo entero.\n",
    "df_victimas['Edad'] = df_victimas['Edad'].astype(int)"
   ]
  },
  {
   "cell_type": "markdown",
   "metadata": {},
   "source": [
    "Se verifica que se hayan efectuado los cambios."
   ]
  },
  {
   "cell_type": "code",
   "execution_count": 81,
   "metadata": {},
   "outputs": [
    {
     "data": {
      "text/plain": [
       "Edad\n",
       "<class 'int'>    717\n",
       "Name: count, dtype: int64"
      ]
     },
     "execution_count": 81,
     "metadata": {},
     "output_type": "execute_result"
    }
   ],
   "source": [
    "tipos_edad = df_victimas['Edad'].apply(type).value_counts()\n",
    "tipos_edad"
   ]
  },
  {
   "cell_type": "code",
   "execution_count": 84,
   "metadata": {},
   "outputs": [
    {
     "data": {
      "text/html": [
       "<div>\n",
       "<style scoped>\n",
       "    .dataframe tbody tr th:only-of-type {\n",
       "        vertical-align: middle;\n",
       "    }\n",
       "\n",
       "    .dataframe tbody tr th {\n",
       "        vertical-align: top;\n",
       "    }\n",
       "\n",
       "    .dataframe thead th {\n",
       "        text-align: right;\n",
       "    }\n",
       "</style>\n",
       "<table border=\"1\" class=\"dataframe\">\n",
       "  <thead>\n",
       "    <tr style=\"text-align: right;\">\n",
       "      <th></th>\n",
       "      <th>ID Siniestro</th>\n",
       "      <th>Rol víctima</th>\n",
       "      <th>Sexo</th>\n",
       "      <th>Edad</th>\n",
       "    </tr>\n",
       "  </thead>\n",
       "  <tbody>\n",
       "    <tr>\n",
       "      <th>0</th>\n",
       "      <td>2016-0001</td>\n",
       "      <td>CONDUCTOR</td>\n",
       "      <td>MASCULINO</td>\n",
       "      <td>19</td>\n",
       "    </tr>\n",
       "    <tr>\n",
       "      <th>1</th>\n",
       "      <td>2016-0002</td>\n",
       "      <td>CONDUCTOR</td>\n",
       "      <td>MASCULINO</td>\n",
       "      <td>70</td>\n",
       "    </tr>\n",
       "    <tr>\n",
       "      <th>2</th>\n",
       "      <td>2016-0003</td>\n",
       "      <td>CONDUCTOR</td>\n",
       "      <td>MASCULINO</td>\n",
       "      <td>30</td>\n",
       "    </tr>\n",
       "    <tr>\n",
       "      <th>3</th>\n",
       "      <td>2016-0004</td>\n",
       "      <td>CONDUCTOR</td>\n",
       "      <td>MASCULINO</td>\n",
       "      <td>18</td>\n",
       "    </tr>\n",
       "    <tr>\n",
       "      <th>4</th>\n",
       "      <td>2016-0005</td>\n",
       "      <td>CONDUCTOR</td>\n",
       "      <td>MASCULINO</td>\n",
       "      <td>29</td>\n",
       "    </tr>\n",
       "  </tbody>\n",
       "</table>\n",
       "</div>"
      ],
      "text/plain": [
       "  ID Siniestro Rol víctima       Sexo  Edad\n",
       "0    2016-0001   CONDUCTOR  MASCULINO    19\n",
       "1    2016-0002   CONDUCTOR  MASCULINO    70\n",
       "2    2016-0003   CONDUCTOR  MASCULINO    30\n",
       "3    2016-0004   CONDUCTOR  MASCULINO    18\n",
       "4    2016-0005   CONDUCTOR  MASCULINO    29"
      ]
     },
     "execution_count": 84,
     "metadata": {},
     "output_type": "execute_result"
    }
   ],
   "source": [
    "df_victimas.head()"
   ]
  },
  {
   "cell_type": "markdown",
   "metadata": {},
   "source": [
    "### Merge de dataframes."
   ]
  },
  {
   "cell_type": "code",
   "execution_count": 87,
   "metadata": {},
   "outputs": [
    {
     "data": {
      "text/html": [
       "<div>\n",
       "<style scoped>\n",
       "    .dataframe tbody tr th:only-of-type {\n",
       "        vertical-align: middle;\n",
       "    }\n",
       "\n",
       "    .dataframe tbody tr th {\n",
       "        vertical-align: top;\n",
       "    }\n",
       "\n",
       "    .dataframe thead th {\n",
       "        text-align: right;\n",
       "    }\n",
       "</style>\n",
       "<table border=\"1\" class=\"dataframe\">\n",
       "  <thead>\n",
       "    <tr style=\"text-align: right;\">\n",
       "      <th></th>\n",
       "      <th>ID Siniestro</th>\n",
       "      <th>Número de víctimas</th>\n",
       "      <th>Fecha</th>\n",
       "      <th>Año</th>\n",
       "      <th>Mes</th>\n",
       "      <th>Día</th>\n",
       "      <th>Hora</th>\n",
       "      <th>Hora entera</th>\n",
       "      <th>Lugar del hecho</th>\n",
       "      <th>Tipo de calle</th>\n",
       "      <th>Calle</th>\n",
       "      <th>Cruce</th>\n",
       "      <th>Dirección Normalizada</th>\n",
       "      <th>Comuna</th>\n",
       "      <th>XY (CABA)</th>\n",
       "      <th>Coordenada X</th>\n",
       "      <th>Coordenada Y</th>\n",
       "      <th>Participantes</th>\n",
       "      <th>Víctima</th>\n",
       "      <th>Acusado</th>\n",
       "      <th>Rol víctima</th>\n",
       "      <th>Sexo</th>\n",
       "      <th>Edad</th>\n",
       "    </tr>\n",
       "  </thead>\n",
       "  <tbody>\n",
       "    <tr>\n",
       "      <th>0</th>\n",
       "      <td>2016-0001</td>\n",
       "      <td>1</td>\n",
       "      <td>2016-01-01</td>\n",
       "      <td>2016</td>\n",
       "      <td>1</td>\n",
       "      <td>1</td>\n",
       "      <td>04:00:00</td>\n",
       "      <td>4</td>\n",
       "      <td>AV PIEDRA BUENA Y AV FERNANDEZ DE LA CRUZ</td>\n",
       "      <td>AVENIDA</td>\n",
       "      <td>PIEDRA BUENA AV.</td>\n",
       "      <td>Sí</td>\n",
       "      <td>PIEDRA BUENA AV. y FERNANDEZ DE LA CRUZ, F., G...</td>\n",
       "      <td>8</td>\n",
       "      <td>Point (98896.78238426 93532.43437792)</td>\n",
       "      <td>-58.47533969</td>\n",
       "      <td>-34.68757022</td>\n",
       "      <td>MOTO-AUTO</td>\n",
       "      <td>MOTO</td>\n",
       "      <td>AUTO</td>\n",
       "      <td>CONDUCTOR</td>\n",
       "      <td>MASCULINO</td>\n",
       "      <td>19</td>\n",
       "    </tr>\n",
       "    <tr>\n",
       "      <th>1</th>\n",
       "      <td>2016-0002</td>\n",
       "      <td>1</td>\n",
       "      <td>2016-01-02</td>\n",
       "      <td>2016</td>\n",
       "      <td>1</td>\n",
       "      <td>2</td>\n",
       "      <td>01:15:00</td>\n",
       "      <td>1</td>\n",
       "      <td>AV GRAL PAZ  Y AV DE LOS CORRALES</td>\n",
       "      <td>GRAL PAZ</td>\n",
       "      <td>PAZ, GRAL. AV.</td>\n",
       "      <td>Sí</td>\n",
       "      <td>PAZ, GRAL. AV. y DE LOS CORRALES AV.</td>\n",
       "      <td>9</td>\n",
       "      <td>Point (95832.05571093 95505.41641999)</td>\n",
       "      <td>-58.50877521</td>\n",
       "      <td>-34.66977709</td>\n",
       "      <td>AUTO-PASAJEROS</td>\n",
       "      <td>AUTO</td>\n",
       "      <td>PASAJEROS</td>\n",
       "      <td>CONDUCTOR</td>\n",
       "      <td>MASCULINO</td>\n",
       "      <td>70</td>\n",
       "    </tr>\n",
       "    <tr>\n",
       "      <th>2</th>\n",
       "      <td>2016-0003</td>\n",
       "      <td>1</td>\n",
       "      <td>2016-01-03</td>\n",
       "      <td>2016</td>\n",
       "      <td>1</td>\n",
       "      <td>3</td>\n",
       "      <td>07:00:00</td>\n",
       "      <td>7</td>\n",
       "      <td>AV ENTRE RIOS 2034</td>\n",
       "      <td>AVENIDA</td>\n",
       "      <td>ENTRE RIOS AV.</td>\n",
       "      <td>No</td>\n",
       "      <td>ENTRE RIOS AV. 2034</td>\n",
       "      <td>1</td>\n",
       "      <td>Point (106684.29090040 99706.57687843)</td>\n",
       "      <td>-58.39040293</td>\n",
       "      <td>-34.63189362</td>\n",
       "      <td>MOTO-AUTO</td>\n",
       "      <td>MOTO</td>\n",
       "      <td>AUTO</td>\n",
       "      <td>CONDUCTOR</td>\n",
       "      <td>MASCULINO</td>\n",
       "      <td>30</td>\n",
       "    </tr>\n",
       "    <tr>\n",
       "      <th>3</th>\n",
       "      <td>2016-0004</td>\n",
       "      <td>1</td>\n",
       "      <td>2016-01-10</td>\n",
       "      <td>2016</td>\n",
       "      <td>1</td>\n",
       "      <td>10</td>\n",
       "      <td>00:00:00</td>\n",
       "      <td>0</td>\n",
       "      <td>AV LARRAZABAL Y GRAL VILLEGAS CONRADO</td>\n",
       "      <td>AVENIDA</td>\n",
       "      <td>LARRAZABAL AV.</td>\n",
       "      <td>Sí</td>\n",
       "      <td>LARRAZABAL AV. y VILLEGAS, CONRADO, GRAL.</td>\n",
       "      <td>8</td>\n",
       "      <td>Point (99840.65224780 94269.16534422)</td>\n",
       "      <td>-58.46503904</td>\n",
       "      <td>-34.68092974</td>\n",
       "      <td>MOTO-SD</td>\n",
       "      <td>MOTO</td>\n",
       "      <td>SD</td>\n",
       "      <td>CONDUCTOR</td>\n",
       "      <td>MASCULINO</td>\n",
       "      <td>18</td>\n",
       "    </tr>\n",
       "    <tr>\n",
       "      <th>4</th>\n",
       "      <td>2016-0005</td>\n",
       "      <td>1</td>\n",
       "      <td>2016-01-21</td>\n",
       "      <td>2016</td>\n",
       "      <td>1</td>\n",
       "      <td>21</td>\n",
       "      <td>05:20:00</td>\n",
       "      <td>5</td>\n",
       "      <td>AV SAN JUAN Y PRESIDENTE LUIS SAENZ PEÑA</td>\n",
       "      <td>AVENIDA</td>\n",
       "      <td>SAN JUAN AV.</td>\n",
       "      <td>Sí</td>\n",
       "      <td>SAN JUAN AV. y SAENZ PEÃ‘A, LUIS, PRES.</td>\n",
       "      <td>1</td>\n",
       "      <td>Point (106980.32827929 100752.16915795)</td>\n",
       "      <td>-58.38718297</td>\n",
       "      <td>-34.62246630</td>\n",
       "      <td>MOTO-PASAJEROS</td>\n",
       "      <td>MOTO</td>\n",
       "      <td>PASAJEROS</td>\n",
       "      <td>CONDUCTOR</td>\n",
       "      <td>MASCULINO</td>\n",
       "      <td>29</td>\n",
       "    </tr>\n",
       "  </tbody>\n",
       "</table>\n",
       "</div>"
      ],
      "text/plain": [
       "  ID Siniestro  Número de víctimas      Fecha   Año  Mes  Día      Hora  \\\n",
       "0    2016-0001                   1 2016-01-01  2016    1    1  04:00:00   \n",
       "1    2016-0002                   1 2016-01-02  2016    1    2  01:15:00   \n",
       "2    2016-0003                   1 2016-01-03  2016    1    3  07:00:00   \n",
       "3    2016-0004                   1 2016-01-10  2016    1   10  00:00:00   \n",
       "4    2016-0005                   1 2016-01-21  2016    1   21  05:20:00   \n",
       "\n",
       "  Hora entera                            Lugar del hecho Tipo de calle  \\\n",
       "0           4  AV PIEDRA BUENA Y AV FERNANDEZ DE LA CRUZ       AVENIDA   \n",
       "1           1          AV GRAL PAZ  Y AV DE LOS CORRALES      GRAL PAZ   \n",
       "2           7                         AV ENTRE RIOS 2034       AVENIDA   \n",
       "3           0      AV LARRAZABAL Y GRAL VILLEGAS CONRADO       AVENIDA   \n",
       "4           5  AV SAN JUAN Y PRESIDENTE LUIS SAENZ PEÑA        AVENIDA   \n",
       "\n",
       "              Calle Cruce                              Dirección Normalizada  \\\n",
       "0  PIEDRA BUENA AV.    Sí  PIEDRA BUENA AV. y FERNANDEZ DE LA CRUZ, F., G...   \n",
       "1    PAZ, GRAL. AV.    Sí               PAZ, GRAL. AV. y DE LOS CORRALES AV.   \n",
       "2    ENTRE RIOS AV.    No                                ENTRE RIOS AV. 2034   \n",
       "3    LARRAZABAL AV.    Sí          LARRAZABAL AV. y VILLEGAS, CONRADO, GRAL.   \n",
       "4      SAN JUAN AV.    Sí            SAN JUAN AV. y SAENZ PEÃ‘A, LUIS, PRES.   \n",
       "\n",
       "   Comuna                                XY (CABA)  Coordenada X  \\\n",
       "0       8    Point (98896.78238426 93532.43437792)  -58.47533969   \n",
       "1       9    Point (95832.05571093 95505.41641999)  -58.50877521   \n",
       "2       1   Point (106684.29090040 99706.57687843)  -58.39040293   \n",
       "3       8    Point (99840.65224780 94269.16534422)  -58.46503904   \n",
       "4       1  Point (106980.32827929 100752.16915795)  -58.38718297   \n",
       "\n",
       "   Coordenada Y   Participantes Víctima    Acusado Rol víctima       Sexo  \\\n",
       "0  -34.68757022       MOTO-AUTO    MOTO       AUTO   CONDUCTOR  MASCULINO   \n",
       "1  -34.66977709  AUTO-PASAJEROS    AUTO  PASAJEROS   CONDUCTOR  MASCULINO   \n",
       "2  -34.63189362       MOTO-AUTO    MOTO       AUTO   CONDUCTOR  MASCULINO   \n",
       "3  -34.68092974         MOTO-SD    MOTO         SD   CONDUCTOR  MASCULINO   \n",
       "4  -34.62246630  MOTO-PASAJEROS    MOTO  PASAJEROS   CONDUCTOR  MASCULINO   \n",
       "\n",
       "   Edad  \n",
       "0    19  \n",
       "1    70  \n",
       "2    30  \n",
       "3    18  \n",
       "4    29  "
      ]
     },
     "execution_count": 87,
     "metadata": {},
     "output_type": "execute_result"
    }
   ],
   "source": [
    "df_homicidios = df_hechos.merge( df_victimas, on='ID Siniestro', how='left')\n",
    "df_homicidios.head()"
   ]
  },
  {
   "cell_type": "markdown",
   "metadata": {},
   "source": [
    "### Carga de datos."
   ]
  },
  {
   "cell_type": "code",
   "execution_count": 88,
   "metadata": {},
   "outputs": [],
   "source": [
    "df_homicidios.to_csv('homicidios.csv', index=False)"
   ]
  }
 ],
 "metadata": {
  "kernelspec": {
   "display_name": "Python 3",
   "language": "python",
   "name": "python3"
  },
  "language_info": {
   "codemirror_mode": {
    "name": "ipython",
    "version": 3
   },
   "file_extension": ".py",
   "mimetype": "text/x-python",
   "name": "python",
   "nbconvert_exporter": "python",
   "pygments_lexer": "ipython3",
   "version": "3.11.9"
  }
 },
 "nbformat": 4,
 "nbformat_minor": 2
}
